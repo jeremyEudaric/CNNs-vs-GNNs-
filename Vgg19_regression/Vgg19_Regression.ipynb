{
 "cells": [
  {
   "cell_type": "code",
   "execution_count": 1,
   "id": "0b43d3c3",
   "metadata": {},
   "outputs": [],
   "source": [
    "import glob\n",
    "import os\n",
    "import pickle\n",
    "import sys\n",
    "from pathlib import Path\n",
    "import random\n",
    "from tqdm import tqdm\n",
    "\n",
    "import torchvision.models as models\n",
    "from torch.nn import Module, Dropout\n",
    "import numpy as np\n",
    "import pandas as pd\n",
    "import matplotlib.pyplot as plt\n",
    "import copy\n",
    "import torch\n",
    "import torch.nn as nn\n",
    "import torch.optim as optim\n",
    "from torch.utils.data import DataLoader, Dataset\n",
    "from torch.utils.data import Dataset, DataLoader,TensorDataset,random_split,SubsetRandomSampler, ConcatDataset\n",
    "import torchvision\n",
    "\n",
    "#from pytorchtools import EarlyStopping\n",
    "\n",
    "\n",
    "\n",
    "from torchvision import datasets, models, transforms\n",
    "import time\n",
    "import logging\n",
    "\n",
    "#from sklearn.metrics import mean_squared_error\n",
    "#from sklearn.model_selection import KFold\n",
    "#from sklearn.model_selection import train_test_split\n",
    "#from sklearn.model_selection import GridSearchCV\n",
    "\n"
   ]
  },
  {
   "cell_type": "code",
   "execution_count": 3,
   "id": "e0958986",
   "metadata": {},
   "outputs": [],
   "source": [
    "train_transforms = transforms.Compose([\n",
    "                                    transforms.Resize(224),\n",
    "                                    transforms.RandomVerticalFlip(),\n",
    "                                    transforms.RandomHorizontalFlip(),\n",
    "                                    transforms.ColorJitter(brightness=0, contrast=0, saturation=1, hue=.5),\n",
    "                                    transforms.ToTensor()])\n",
    "\n",
    "\n",
    "val_transforms= transforms.Compose([\n",
    "                                    transforms.Resize(224),\n",
    "                                    transforms.ToTensor()])\n",
    "\n",
    "\n",
    "\n",
    "# cross validaion with 5 folders on the train \n",
    "train_dataset = datasets.ImageFolder('/Users/eudari01/GNNs_Vs_CNNs/tiles_CIN/train/', train_transforms) \n",
    "\n",
    "# cross validaion with 5 folders on the val \n",
    "val_dataset = datasets.ImageFolder('/Users/eudari01/GNNs_Vs_CNNs/tiles_CIN/val/', val_transforms) \n",
    "\n",
    "\n",
    "batch_size = 48\n",
    "train_loader = torch.utils.data.DataLoader(train_dataset, batch_size=batch_size, num_workers=16, shuffle=True)\n",
    "valid_loader= torch.utils.data.DataLoader(val_dataset, batch_size=batch_size, num_workers=16, shuffle=True)\n",
    "\n",
    "                         "
   ]
  },
  {
   "cell_type": "code",
   "execution_count": 5,
   "id": "43df0dd5",
   "metadata": {},
   "outputs": [],
   "source": [
    "#chesk the classes \n",
    "#train_dataset.classes\n"
   ]
  },
  {
   "cell_type": "code",
   "execution_count": 6,
   "id": "d7a3e5e9",
   "metadata": {},
   "outputs": [],
   "source": [
    "#model = torch.hub.load('pytorch/vision:v0.10.0', 'vgg19_bn', pretrained=True)"
   ]
  },
  {
   "cell_type": "code",
   "execution_count": 7,
   "id": "446a5543",
   "metadata": {},
   "outputs": [],
   "source": [
    "#model.eval()"
   ]
  },
  {
   "cell_type": "code",
   "execution_count": 4,
   "id": "ce4e4c1a",
   "metadata": {},
   "outputs": [],
   "source": [
    "class VGG_19_Regression(Module):\n",
    "    \n",
    "    def __init__(self,):\n",
    "        \n",
    "        model = torch.hub.load('pytorch/vision:v0.10.0', 'vgg19_bn', pretrained=True)\n",
    "        \n",
    "        super(VGG_19_Regression,self).__init__()\n",
    "        self.model= model\n",
    "        self.Regression = nn.Linear(1000,1)\n",
    "        self.dropout = Dropout(0.5)\n",
    "        \n",
    "           \n",
    "         \n",
    "    def forward(self, out):\n",
    "        \n",
    "        x= self.model(out)\n",
    "        \n",
    "        x = x.view(x.size(0), -1) # flatten\n",
    "        \n",
    "        x = self.dropout(x)\n",
    "        \n",
    "        x =self.Regression(x)\n",
    "        \n",
    "        return x"
   ]
  },
  {
   "cell_type": "code",
   "execution_count": 9,
   "id": "76cea0df",
   "metadata": {},
   "outputs": [],
   "source": [
    "#device = torch.device(\"cuda\" if torch.cuda.is_available() else \"cpu\")\n",
    "#Model = models.vgg19(pretrained=True).features.to(device).eval()"
   ]
  },
  {
   "cell_type": "code",
   "execution_count": 5,
   "id": "7bfd92fe",
   "metadata": {},
   "outputs": [
    {
     "name": "stderr",
     "output_type": "stream",
     "text": [
      "Using cache found in /Users/eudari01/.cache/torch/hub/pytorch_vision_v0.10.0\n"
     ]
    }
   ],
   "source": [
    "Model= VGG_19_Regression()\n",
    "\n",
    "MSE = torch.nn.MSELoss()\n",
    "optimizer = torch.optim.SGD(Model.parameters(), lr=0.00001,momentum=0.9)\n"
   ]
  },
  {
   "cell_type": "code",
   "execution_count": 6,
   "id": "44c8ac1c",
   "metadata": {},
   "outputs": [],
   "source": [
    "#train_accuracy=[]\n",
    "train_loss = []\n",
    "val_loss = []\n",
    "\n",
    "def training(epoch):\n",
    "      \n",
    "    for i in range(5) : \n",
    "     \n",
    "        \n",
    "      \n",
    "        epoch_loss = 0.0\n",
    "        running_loss_train=0.0\n",
    "   \n",
    "        for data, label in tqdm(train_loader):\n",
    "        \n",
    "            label= label.to(torch.float32)\n",
    "            label = label.unsqueeze(1)\n",
    "\n",
    "         \n",
    "        #Transfer Data to GPU if available\n",
    "        #if torch.cuda.is_available():\n",
    "            #data = data.cuda()\n",
    "            #label = label.cuda()\n",
    "            #Model.train()\n",
    "            output = Model(data)\n",
    "            #you can change the loss and use MSE or Cross Entropy\n",
    "            loss = MSE(output,label)\n",
    "           \n",
    "            # Clear the gradients\n",
    "            optimizer.zero_grad()\n",
    "            \n",
    "            loss.backward()\n",
    "            optimizer.step()\n",
    "            \n",
    "            #Calculate accuracy \n",
    "            #prediction_train=output.argmax(dim=1)\n",
    "           # acc = (prediction_train== label1).float().mean()\n",
    "        \n",
    "            running_loss_train =+ loss.item()* data.size(0) \n",
    "            #Epoch\n",
    "            #epoch_accuracy += acc.item() / len(train_loader)\n",
    "            epoch_loss += running_loss_train / len(train_loader)\n",
    "            \n",
    "            \n",
    "        Model.eval()\n",
    "        epoch_val_loss = 0.0\n",
    "        running_loss_val= 0.0\n",
    "        \n",
    "  \n",
    "        \n",
    "        for data, label in valid_loader:\n",
    "            #if torch.cuda.is_available():\n",
    "                \n",
    "                #data = data.cuda()\n",
    "                #label = label.cuda()\n",
    "                #label= label.to(torch.float32)\n",
    "                #label = label.unsqueeze(1)\n",
    "    \n",
    "                output = Model(data)\n",
    "                \n",
    "                loss = MSE(output, label)\n",
    "                \n",
    "                # Clear the gradients\n",
    "                #optimizer.zero_grad()\n",
    "                \n",
    "                #val_loss.backward()\n",
    "                \n",
    "                #optimizer.step()\n",
    "                #Calculate accuracy \n",
    "                #prediction_val= val_output.argmax(dim=1)\n",
    "                \n",
    "                #mse_val=mean_squared_error(label,prediction_val)\n",
    "                \n",
    "                #val_acc = (prediction_val == label).float().mean()\n",
    "                \n",
    "                running_loss_val =+ loss.item()* data.size(0) \n",
    "               \n",
    "                #Epoch\n",
    "                #epoch_val_accuracy += val_acc.item() / len(valid_loader)\n",
    "                epoch_val_loss += running_loss_val / len(valid_loader)\n",
    "\n",
    "                    \n",
    "            \n",
    "        val_loss.append(epoch_val_loss)\n",
    "        train_loss.append(epoch_loss)\n",
    "    #train_accuracy.append(epoch_accuracy)\n",
    "        #print('Split: {}'.format(i))                \n",
    "        print(\n",
    "            f\"Epoch : {epoch+1} - train_loss : {epoch_loss:.4f} - val_loss : {epoch_val_loss:.4f} \\n\")"
   ]
  },
  {
   "cell_type": "code",
   "execution_count": 7,
   "id": "9440fd81",
   "metadata": {},
   "outputs": [
    {
     "name": "stderr",
     "output_type": "stream",
     "text": [
      "100%|███████████████████████████████████████████| 61/61 [17:18<00:00, 17.03s/it]\n",
      "/Users/eudari01/anaconda3/lib/python3.9/site-packages/torch/nn/modules/loss.py:520: UserWarning: Using a target size (torch.Size([48])) that is different to the input size (torch.Size([48, 1])). This will likely lead to incorrect results due to broadcasting. Please ensure they have the same size.\n",
      "  return F.mse_loss(input, target, reduction=self.reduction)\n",
      "/Users/eudari01/anaconda3/lib/python3.9/site-packages/torch/nn/modules/loss.py:520: UserWarning: Using a target size (torch.Size([7])) that is different to the input size (torch.Size([7, 1])). This will likely lead to incorrect results due to broadcasting. Please ensure they have the same size.\n",
      "  return F.mse_loss(input, target, reduction=self.reduction)\n",
      "  0%|                                                    | 0/61 [00:00<?, ?it/s]"
     ]
    },
    {
     "name": "stdout",
     "output_type": "stream",
     "text": [
      "Epoch : 2 - train_loss : 198.5318 - val_loss : 104.6466 \n",
      "\n"
     ]
    },
    {
     "name": "stderr",
     "output_type": "stream",
     "text": [
      "100%|███████████████████████████████████████████| 61/61 [16:49<00:00, 16.55s/it]\n",
      "  0%|                                                    | 0/61 [00:00<?, ?it/s]"
     ]
    },
    {
     "name": "stdout",
     "output_type": "stream",
     "text": [
      "Epoch : 2 - train_loss : 104.3880 - val_loss : 101.2743 \n",
      "\n"
     ]
    },
    {
     "name": "stderr",
     "output_type": "stream",
     "text": [
      "100%|███████████████████████████████████████████| 61/61 [16:47<00:00, 16.52s/it]\n",
      "  0%|                                                    | 0/61 [00:00<?, ?it/s]"
     ]
    },
    {
     "name": "stdout",
     "output_type": "stream",
     "text": [
      "Epoch : 2 - train_loss : 102.6392 - val_loss : 93.1937 \n",
      "\n"
     ]
    },
    {
     "name": "stderr",
     "output_type": "stream",
     "text": [
      "100%|███████████████████████████████████████████| 61/61 [16:51<00:00, 16.58s/it]\n",
      "  0%|                                                    | 0/61 [00:00<?, ?it/s]"
     ]
    },
    {
     "name": "stdout",
     "output_type": "stream",
     "text": [
      "Epoch : 2 - train_loss : 100.5850 - val_loss : 95.7866 \n",
      "\n"
     ]
    },
    {
     "name": "stderr",
     "output_type": "stream",
     "text": [
      "100%|███████████████████████████████████████████| 61/61 [16:51<00:00, 16.59s/it]\n",
      "  0%|                                                    | 0/61 [00:00<?, ?it/s]"
     ]
    },
    {
     "name": "stdout",
     "output_type": "stream",
     "text": [
      "Epoch : 2 - train_loss : 99.0143 - val_loss : 94.2361 \n",
      "\n"
     ]
    },
    {
     "name": "stderr",
     "output_type": "stream",
     "text": [
      "100%|███████████████████████████████████████████| 61/61 [16:50<00:00, 16.56s/it]\n",
      "  0%|                                                    | 0/61 [00:00<?, ?it/s]"
     ]
    },
    {
     "name": "stdout",
     "output_type": "stream",
     "text": [
      "Epoch : 3 - train_loss : 98.7961 - val_loss : 104.8711 \n",
      "\n"
     ]
    },
    {
     "name": "stderr",
     "output_type": "stream",
     "text": [
      "100%|███████████████████████████████████████████| 61/61 [16:54<00:00, 16.64s/it]\n",
      "  0%|                                                    | 0/61 [00:00<?, ?it/s]"
     ]
    },
    {
     "name": "stdout",
     "output_type": "stream",
     "text": [
      "Epoch : 3 - train_loss : 98.2802 - val_loss : 91.5123 \n",
      "\n"
     ]
    },
    {
     "name": "stderr",
     "output_type": "stream",
     "text": [
      "100%|███████████████████████████████████████████| 61/61 [16:56<00:00, 16.66s/it]\n",
      "  0%|                                                    | 0/61 [00:00<?, ?it/s]"
     ]
    },
    {
     "name": "stdout",
     "output_type": "stream",
     "text": [
      "Epoch : 3 - train_loss : 97.1217 - val_loss : 93.2084 \n",
      "\n"
     ]
    },
    {
     "name": "stderr",
     "output_type": "stream",
     "text": [
      "100%|███████████████████████████████████████████| 61/61 [16:55<00:00, 16.65s/it]\n",
      "  0%|                                                    | 0/61 [00:00<?, ?it/s]"
     ]
    },
    {
     "name": "stdout",
     "output_type": "stream",
     "text": [
      "Epoch : 3 - train_loss : 96.7735 - val_loss : 91.4922 \n",
      "\n"
     ]
    },
    {
     "name": "stderr",
     "output_type": "stream",
     "text": [
      "100%|███████████████████████████████████████████| 61/61 [16:53<00:00, 16.61s/it]\n",
      "  0%|                                                    | 0/61 [00:00<?, ?it/s]"
     ]
    },
    {
     "name": "stdout",
     "output_type": "stream",
     "text": [
      "Epoch : 3 - train_loss : 97.1342 - val_loss : 91.1122 \n",
      "\n"
     ]
    },
    {
     "name": "stderr",
     "output_type": "stream",
     "text": [
      "100%|███████████████████████████████████████████| 61/61 [16:50<00:00, 16.57s/it]\n",
      "  0%|                                                    | 0/61 [00:00<?, ?it/s]"
     ]
    },
    {
     "name": "stdout",
     "output_type": "stream",
     "text": [
      "Epoch : 4 - train_loss : 97.3862 - val_loss : 93.6766 \n",
      "\n"
     ]
    },
    {
     "name": "stderr",
     "output_type": "stream",
     "text": [
      "100%|███████████████████████████████████████████| 61/61 [16:55<00:00, 16.65s/it]\n",
      "  0%|                                                    | 0/61 [00:00<?, ?it/s]"
     ]
    },
    {
     "name": "stdout",
     "output_type": "stream",
     "text": [
      "Epoch : 4 - train_loss : 97.6438 - val_loss : 91.8514 \n",
      "\n"
     ]
    },
    {
     "name": "stderr",
     "output_type": "stream",
     "text": [
      "100%|███████████████████████████████████████████| 61/61 [16:48<00:00, 16.54s/it]\n",
      "  0%|                                                    | 0/61 [00:00<?, ?it/s]"
     ]
    },
    {
     "name": "stdout",
     "output_type": "stream",
     "text": [
      "Epoch : 4 - train_loss : 96.4948 - val_loss : 90.1754 \n",
      "\n"
     ]
    },
    {
     "name": "stderr",
     "output_type": "stream",
     "text": [
      "100%|███████████████████████████████████████████| 61/61 [16:51<00:00, 16.59s/it]\n",
      "  0%|                                                    | 0/61 [00:00<?, ?it/s]"
     ]
    },
    {
     "name": "stdout",
     "output_type": "stream",
     "text": [
      "Epoch : 4 - train_loss : 97.0111 - val_loss : 91.9637 \n",
      "\n"
     ]
    },
    {
     "name": "stderr",
     "output_type": "stream",
     "text": [
      "100%|███████████████████████████████████████████| 61/61 [16:40<00:00, 16.41s/it]\n",
      "  0%|                                                    | 0/61 [00:00<?, ?it/s]"
     ]
    },
    {
     "name": "stdout",
     "output_type": "stream",
     "text": [
      "Epoch : 4 - train_loss : 95.9387 - val_loss : 91.5774 \n",
      "\n"
     ]
    },
    {
     "name": "stderr",
     "output_type": "stream",
     "text": [
      "100%|███████████████████████████████████████████| 61/61 [16:36<00:00, 16.33s/it]\n",
      "  0%|                                                    | 0/61 [00:00<?, ?it/s]"
     ]
    },
    {
     "name": "stdout",
     "output_type": "stream",
     "text": [
      "Epoch : 5 - train_loss : 96.6626 - val_loss : 92.1217 \n",
      "\n"
     ]
    },
    {
     "name": "stderr",
     "output_type": "stream",
     "text": [
      "100%|███████████████████████████████████████████| 61/61 [16:33<00:00, 16.28s/it]\n",
      "  0%|                                                    | 0/61 [00:00<?, ?it/s]"
     ]
    },
    {
     "name": "stdout",
     "output_type": "stream",
     "text": [
      "Epoch : 5 - train_loss : 96.1591 - val_loss : 92.9518 \n",
      "\n"
     ]
    },
    {
     "name": "stderr",
     "output_type": "stream",
     "text": [
      "100%|███████████████████████████████████████████| 61/61 [16:26<00:00, 16.17s/it]\n",
      "  0%|                                                    | 0/61 [00:00<?, ?it/s]"
     ]
    },
    {
     "name": "stdout",
     "output_type": "stream",
     "text": [
      "Epoch : 5 - train_loss : 96.0044 - val_loss : 90.3634 \n",
      "\n"
     ]
    },
    {
     "name": "stderr",
     "output_type": "stream",
     "text": [
      "100%|███████████████████████████████████████████| 61/61 [16:10<00:00, 15.91s/it]\n",
      "  0%|                                                    | 0/61 [00:00<?, ?it/s]"
     ]
    },
    {
     "name": "stdout",
     "output_type": "stream",
     "text": [
      "Epoch : 5 - train_loss : 96.0132 - val_loss : 91.3176 \n",
      "\n"
     ]
    },
    {
     "name": "stderr",
     "output_type": "stream",
     "text": [
      "100%|███████████████████████████████████████████| 61/61 [15:56<00:00, 15.68s/it]\n",
      "  0%|                                                    | 0/61 [00:00<?, ?it/s]"
     ]
    },
    {
     "name": "stdout",
     "output_type": "stream",
     "text": [
      "Epoch : 5 - train_loss : 95.1435 - val_loss : 89.9238 \n",
      "\n"
     ]
    },
    {
     "name": "stderr",
     "output_type": "stream",
     "text": [
      "100%|███████████████████████████████████████████| 61/61 [15:59<00:00, 15.73s/it]\n",
      "  0%|                                                    | 0/61 [00:00<?, ?it/s]"
     ]
    },
    {
     "name": "stdout",
     "output_type": "stream",
     "text": [
      "Epoch : 6 - train_loss : 95.8815 - val_loss : 89.8418 \n",
      "\n"
     ]
    },
    {
     "name": "stderr",
     "output_type": "stream",
     "text": [
      "100%|███████████████████████████████████████████| 61/61 [15:59<00:00, 15.73s/it]\n",
      "  0%|                                                    | 0/61 [00:00<?, ?it/s]"
     ]
    },
    {
     "name": "stdout",
     "output_type": "stream",
     "text": [
      "Epoch : 6 - train_loss : 97.1110 - val_loss : 90.6401 \n",
      "\n"
     ]
    },
    {
     "name": "stderr",
     "output_type": "stream",
     "text": [
      "100%|███████████████████████████████████████████| 61/61 [16:05<00:00, 15.84s/it]\n",
      "  0%|                                                    | 0/61 [00:00<?, ?it/s]"
     ]
    },
    {
     "name": "stdout",
     "output_type": "stream",
     "text": [
      "Epoch : 6 - train_loss : 96.0611 - val_loss : 91.0066 \n",
      "\n"
     ]
    },
    {
     "name": "stderr",
     "output_type": "stream",
     "text": [
      "100%|███████████████████████████████████████████| 61/61 [16:03<00:00, 15.80s/it]\n",
      "  0%|                                                    | 0/61 [00:00<?, ?it/s]"
     ]
    },
    {
     "name": "stdout",
     "output_type": "stream",
     "text": [
      "Epoch : 6 - train_loss : 95.0228 - val_loss : 90.3243 \n",
      "\n"
     ]
    },
    {
     "name": "stderr",
     "output_type": "stream",
     "text": [
      "100%|███████████████████████████████████████████| 61/61 [16:08<00:00, 15.88s/it]\n"
     ]
    },
    {
     "name": "stdout",
     "output_type": "stream",
     "text": [
      "Epoch : 6 - train_loss : 96.3428 - val_loss : 91.4109 \n",
      "\n"
     ]
    }
   ],
   "source": [
    "epochs=5\n",
    "for epoch in range(1,epochs+1):\n",
    "     training(epoch)"
   ]
  },
  {
   "cell_type": "code",
   "execution_count": 8,
   "id": "e442022e",
   "metadata": {},
   "outputs": [
    {
     "data": {
      "image/png": "[encoded data removed]",
      "text/plain": [
       "<Figure size 432x288 with 1 Axes>"
      ]
     },
     "metadata": {
      "needs_background": "light"
     },
     "output_type": "display_data"
    }
   ],
   "source": [
    "# to check the overfiting \n",
    "plt.title(\"Training and Validation Loss\")\n",
    "plt.plot(train_loss, 'bo-',label=\"train\")\n",
    "plt.plot(val_loss, 'ro-',label=\"val\")\n",
    "plt.xlabel(\"iterations\")\n",
    "plt.ylabel(\"Loss\")\n",
    "plt.legend()\n",
    "plt.savefig\n",
    "plt.show()"
   ]
  },
  {
   "cell_type": "code",
   "execution_count": 295,
   "id": "20f23878",
   "metadata": {},
   "outputs": [],
   "source": [
    "transformer = transforms.Compose([\n",
    "                                  transforms.Resize((224,224)),\n",
    "                                  transforms.ToTensor(),\n",
    "                                  transforms.Normalize([0.5,0.5,0.5], [0.5,0.5,0.5]) \n",
    "                                  ])\n"
   ]
  },
  {
   "cell_type": "code",
   "execution_count": 311,
   "id": "c1eb3463",
   "metadata": {},
   "outputs": [
    {
     "data": {
      "text/plain": [
       "['MB-0028_train_metastasis_3328x_768y_256tilesize_68foregroundLevel.jpg',\n",
       " 'MB-0028_train_metastasis_3072x_256y_256tilesize_31foregroundLevel.jpg',\n",
       " 'MB-0028_train_metastasis_1280x_256y_256tilesize_63foregroundLevel.jpg',\n",
       " 'MB-0028_train_metastasis_1792x_512y_256tilesize_52foregroundLevel.jpg',\n",
       " 'MB-0028_train_metastasis_3072x_512y_256tilesize_45foregroundLevel.jpg',\n",
       " 'MB-0028_train_metastasis_768x_1024y_256tilesize_63foregroundLevel.jpg',\n",
       " 'MB-0028_train_metastasis_2304x_0y_256tilesize_61foregroundLevel.jpg',\n",
       " 'MB-0028_train_metastasis_1792x_256y_256tilesize_54foregroundLevel.jpg',\n",
       " 'MB-0028_train_metastasis_2304x_512y_256tilesize_34foregroundLevel.jpg',\n",
       " 'MB-0028_train_metastasis_2304x_256y_256tilesize_24foregroundLevel.jpg',\n",
       " 'MB-0028_train_metastasis_3584x_768y_256tilesize_44foregroundLevel.jpg',\n",
       " 'MB-0028_train_metastasis_2816x_256y_256tilesize_65foregroundLevel.jpg',\n",
       " 'MB-0028_train_metastasis_768x_1280y_256tilesize_63foregroundLevel.jpg',\n",
       " 'MB-0028_train_metastasis_2048x_256y_256tilesize_35foregroundLevel.jpg',\n",
       " 'MB-0028_train_metastasis_2048x_512y_256tilesize_36foregroundLevel.jpg',\n",
       " 'MB-0028_train_metastasis_1280x_512y_256tilesize_50foregroundLevel.jpg',\n",
       " 'MB-0028_train_metastasis_2560x_256y_256tilesize_69foregroundLevel.jpg']"
      ]
     },
     "execution_count": 311,
     "metadata": {},
     "output_type": "execute_result"
    }
   ],
   "source": [
    "dataset = ('/Users/eudari01/GNNs_Vs_CNNs/tiles_CIN/train/tiles_has_CIN_HE_trainsetCV_fold_0/MB-0028/train_metastasis') \n",
    "images= os.listdir(('/Users/eudari01/GNNs_Vs_CNNs/tiles_CIN/train/tiles_has_CIN_HE_trainsetCV_fold_0/MB-0028/train_metastasis') )\n",
    "images\n",
    "#pred_path = '/content/drive/MyDrive/Chest X-ray (Covid-19 & Pneumonia)/Test_images/Data/'\n",
    "#test_imgs = glob.glob(dataset+'/*')\n",
    "#loader = torch.utils.data.DataLoader(dataset, batch_size=batch_size, num_workers=16, shuffle=True)"
   ]
  },
  {
   "cell_type": "code",
   "execution_count": 302,
   "id": "dd370d21",
   "metadata": {},
   "outputs": [
    {
     "data": {
      "text/plain": [
       "['/Users/eudari01/GNNs_Vs_CNNs/tiles_CIN/train/tiles_has_CIN_HE_trainsetCV_fold_0/MB-0028/train_metastasis']"
      ]
     },
     "execution_count": 302,
     "metadata": {},
     "output_type": "execute_result"
    }
   ],
   "source": [
    "test_imgs"
   ]
  },
  {
   "cell_type": "code",
   "execution_count": 288,
   "id": "5ff9e6b8",
   "metadata": {},
   "outputs": [
    {
     "data": {
      "text/plain": [
       "<torch.utils.data.dataloader.DataLoader at 0x7fef446f1f40>"
      ]
     },
     "execution_count": 288,
     "metadata": {},
     "output_type": "execute_result"
    }
   ],
   "source": []
  },
  {
   "cell_type": "code",
   "execution_count": 334,
   "id": "28ca6cd1",
   "metadata": {},
   "outputs": [],
   "source": [
    "dataset = datasets.ImageFolder('/Users/eudari01/GNNs_Vs_CNNs/tiles_CIN/train/tiles_has_CIN_HE_trainsetCV_fold_0/MB-0028/')"
   ]
  },
  {
   "cell_type": "code",
   "execution_count": 343,
   "id": "57d2d249",
   "metadata": {},
   "outputs": [
    {
     "ename": "IndentationError",
     "evalue": "unexpected indent (2776085356.py, line 3)",
     "output_type": "error",
     "traceback": [
      "\u001b[0;36m  File \u001b[0;32m\"/tmp/ipykernel_434160/2776085356.py\"\u001b[0;36m, line \u001b[0;32m3\u001b[0m\n\u001b[0;31m    images,labels = next(iter(dataset)\u001b[0m\n\u001b[0m    ^\u001b[0m\n\u001b[0;31mIndentationError\u001b[0m\u001b[0;31m:\u001b[0m unexpected indent\n"
     ]
    }
   ],
   "source": [
    "\n",
    " \n",
    "    #for eachtile in images:\n",
    "\n",
    "        images,labels = next(iter(dataset)\n",
    "    \n",
    "        \n",
    "        \n",
    "        outputs=Model(eachtile)\n",
    "        \n",
    "        predicted = outputs.data\n",
    "        # created a tensor\n",
    "        predicted=torch.Tensor(predicted)\n",
    "        # numpy array as list \n",
    "        predicted=predicted.numpy()\n",
    "        # save the numpy array  \n",
    "        np.savetxt('test.out', predicted, delimiter=',') \n",
    "    \n",
    "  "
   ]
  },
  {
   "cell_type": "code",
   "execution_count": null,
   "id": "8f84d4c1",
   "metadata": {},
   "outputs": [],
   "source": []
  },
  {
   "cell_type": "code",
   "execution_count": 330,
   "id": "e116ca2d",
   "metadata": {},
   "outputs": [],
   "source": [
    "#images, labels = next(iter(dataset )\n",
    "#image_tensor = dataset.unsqueeze_(0)"
   ]
  },
  {
   "cell_type": "code",
   "execution_count": 235,
   "id": "ee91cf90",
   "metadata": {},
   "outputs": [],
   "source": [
    "p=('/Users/eudari01/GNNs_Vs_CNNs/tiles_CIN/train/tiles_has_CIN_HE_trainsetCV_fold_0/MB-0028/')"
   ]
  },
  {
   "cell_type": "code",
   "execution_count": 159,
   "id": "20d45bff",
   "metadata": {},
   "outputs": [],
   "source": [
    "\n",
    "\n"
   ]
  },
  {
   "cell_type": "code",
   "execution_count": 227,
   "id": "f23277fa",
   "metadata": {
    "scrolled": true
   },
   "outputs": [
    {
     "ename": "TypeError",
     "evalue": "tuple indices must be integers or slices, not tuple",
     "output_type": "error",
     "traceback": [
      "\u001b[0;31m---------------------------------------------------------------------------\u001b[0m",
      "\u001b[0;31mTypeError\u001b[0m                                 Traceback (most recent call last)",
      "\u001b[0;32m/tmp/ipykernel_434160/1266920771.py\u001b[0m in \u001b[0;36m<module>\u001b[0;34m\u001b[0m\n\u001b[1;32m      1\u001b[0m \u001b[0;32mfor\u001b[0m \u001b[0mi\u001b[0m \u001b[0;32min\u001b[0m \u001b[0mdataset\u001b[0m\u001b[0;34m:\u001b[0m\u001b[0;34m\u001b[0m\u001b[0;34m\u001b[0m\u001b[0m\n\u001b[0;32m----> 2\u001b[0;31m     \u001b[0mprediction\u001b[0m\u001b[0;34m(\u001b[0m\u001b[0mi\u001b[0m\u001b[0;34m)\u001b[0m\u001b[0;34m\u001b[0m\u001b[0;34m\u001b[0m\u001b[0m\n\u001b[0m",
      "\u001b[0;32m/tmp/ipykernel_434160/75509894.py\u001b[0m in \u001b[0;36mprediction\u001b[0;34m(Image)\u001b[0m\n\u001b[1;32m      6\u001b[0m \u001b[0;34m\u001b[0m\u001b[0m\n\u001b[1;32m      7\u001b[0m \u001b[0;34m\u001b[0m\u001b[0m\n\u001b[0;32m----> 8\u001b[0;31m         \u001b[0moutputs\u001b[0m\u001b[0;34m=\u001b[0m\u001b[0mModel\u001b[0m\u001b[0;34m(\u001b[0m\u001b[0mImage\u001b[0m\u001b[0;34m[\u001b[0m\u001b[0;32mNone\u001b[0m\u001b[0;34m,\u001b[0m \u001b[0;34m...\u001b[0m\u001b[0;34m]\u001b[0m\u001b[0;34m.\u001b[0m\u001b[0mfloat\u001b[0m\u001b[0;34m(\u001b[0m\u001b[0;34m)\u001b[0m\u001b[0;34m)\u001b[0m\u001b[0;34m\u001b[0m\u001b[0;34m\u001b[0m\u001b[0m\n\u001b[0m\u001b[1;32m      9\u001b[0m         \u001b[0mpredicted\u001b[0m \u001b[0;34m=\u001b[0m \u001b[0moutputs\u001b[0m\u001b[0;34m.\u001b[0m\u001b[0mdata\u001b[0m\u001b[0;34m\u001b[0m\u001b[0;34m\u001b[0m\u001b[0m\n\u001b[1;32m     10\u001b[0m         \u001b[0mpredicted\u001b[0m\u001b[0;34m=\u001b[0m\u001b[0mtorch\u001b[0m\u001b[0;34m.\u001b[0m\u001b[0mTensor\u001b[0m\u001b[0;34m(\u001b[0m\u001b[0mpredicted\u001b[0m\u001b[0;34m)\u001b[0m\u001b[0;34m\u001b[0m\u001b[0;34m\u001b[0m\u001b[0m\n",
      "\u001b[0;31mTypeError\u001b[0m: tuple indices must be integers or slices, not tuple"
     ]
    }
   ],
   "source": []
  },
  {
   "cell_type": "code",
   "execution_count": 148,
   "id": "fd1227db",
   "metadata": {},
   "outputs": [
    {
     "ename": "IndexError",
     "evalue": "list index out of range",
     "output_type": "error",
     "traceback": [
      "\u001b[0;31m---------------------------------------------------------------------------\u001b[0m",
      "\u001b[0;31mIndexError\u001b[0m                                Traceback (most recent call last)",
      "\u001b[0;32m/tmp/ipykernel_434160/691099581.py\u001b[0m in \u001b[0;36m<module>\u001b[0;34m\u001b[0m\n\u001b[1;32m      1\u001b[0m \u001b[0mindex\u001b[0m \u001b[0;34m=\u001b[0m \u001b[0;36m256\u001b[0m\u001b[0;34m\u001b[0m\u001b[0;34m\u001b[0m\u001b[0m\n\u001b[0;32m----> 2\u001b[0;31m \u001b[0mitem\u001b[0m \u001b[0;34m=\u001b[0m \u001b[0mdataset\u001b[0m\u001b[0;34m[\u001b[0m\u001b[0mindex\u001b[0m\u001b[0;34m]\u001b[0m\u001b[0;34m\u001b[0m\u001b[0;34m\u001b[0m\u001b[0m\n\u001b[0m\u001b[1;32m      3\u001b[0m \u001b[0mimage\u001b[0m \u001b[0;34m=\u001b[0m \u001b[0mitem\u001b[0m\u001b[0;34m[\u001b[0m\u001b[0;36m0\u001b[0m\u001b[0;34m]\u001b[0m\u001b[0;34m\u001b[0m\u001b[0;34m\u001b[0m\u001b[0m\n\u001b[1;32m      4\u001b[0m \u001b[0mtrue_target\u001b[0m \u001b[0;34m=\u001b[0m \u001b[0mitem\u001b[0m\u001b[0;34m[\u001b[0m\u001b[0;36m1\u001b[0m\u001b[0;34m]\u001b[0m\u001b[0;34m\u001b[0m\u001b[0;34m\u001b[0m\u001b[0m\n\u001b[1;32m      5\u001b[0m \u001b[0mprediction\u001b[0m \u001b[0;34m=\u001b[0m \u001b[0mModel\u001b[0m\u001b[0;34m(\u001b[0m\u001b[0mimage\u001b[0m\u001b[0;34m[\u001b[0m\u001b[0;32mNone\u001b[0m\u001b[0;34m,\u001b[0m \u001b[0;34m...\u001b[0m\u001b[0;34m]\u001b[0m\u001b[0;34m.\u001b[0m\u001b[0mfloat\u001b[0m\u001b[0;34m(\u001b[0m\u001b[0;34m)\u001b[0m\u001b[0;34m)\u001b[0m\u001b[0;34m\u001b[0m\u001b[0;34m\u001b[0m\u001b[0m\n",
      "\u001b[0;32m~/anaconda3/lib/python3.9/site-packages/torchvision/datasets/folder.py\u001b[0m in \u001b[0;36m__getitem__\u001b[0;34m(self, index)\u001b[0m\n\u001b[1;32m    229\u001b[0m             \u001b[0mtuple\u001b[0m\u001b[0;34m:\u001b[0m \u001b[0;34m(\u001b[0m\u001b[0msample\u001b[0m\u001b[0;34m,\u001b[0m \u001b[0mtarget\u001b[0m\u001b[0;34m)\u001b[0m \u001b[0mwhere\u001b[0m \u001b[0mtarget\u001b[0m \u001b[0;32mis\u001b[0m \u001b[0mclass_index\u001b[0m \u001b[0mof\u001b[0m \u001b[0mthe\u001b[0m \u001b[0mtarget\u001b[0m \u001b[0;32mclass\u001b[0m\u001b[0;34m.\u001b[0m\u001b[0;34m\u001b[0m\u001b[0;34m\u001b[0m\u001b[0m\n\u001b[1;32m    230\u001b[0m         \"\"\"\n\u001b[0;32m--> 231\u001b[0;31m         \u001b[0mpath\u001b[0m\u001b[0;34m,\u001b[0m \u001b[0mtarget\u001b[0m \u001b[0;34m=\u001b[0m \u001b[0mself\u001b[0m\u001b[0;34m.\u001b[0m\u001b[0msamples\u001b[0m\u001b[0;34m[\u001b[0m\u001b[0mindex\u001b[0m\u001b[0;34m]\u001b[0m\u001b[0;34m\u001b[0m\u001b[0;34m\u001b[0m\u001b[0m\n\u001b[0m\u001b[1;32m    232\u001b[0m         \u001b[0msample\u001b[0m \u001b[0;34m=\u001b[0m \u001b[0mself\u001b[0m\u001b[0;34m.\u001b[0m\u001b[0mloader\u001b[0m\u001b[0;34m(\u001b[0m\u001b[0mpath\u001b[0m\u001b[0;34m)\u001b[0m\u001b[0;34m\u001b[0m\u001b[0;34m\u001b[0m\u001b[0m\n\u001b[1;32m    233\u001b[0m         \u001b[0;32mif\u001b[0m \u001b[0mself\u001b[0m\u001b[0;34m.\u001b[0m\u001b[0mtransform\u001b[0m \u001b[0;32mis\u001b[0m \u001b[0;32mnot\u001b[0m \u001b[0;32mNone\u001b[0m\u001b[0;34m:\u001b[0m\u001b[0;34m\u001b[0m\u001b[0;34m\u001b[0m\u001b[0m\n",
      "\u001b[0;31mIndexError\u001b[0m: list index out of range"
     ]
    }
   ],
   "source": [
    "index = 256\n",
    "item = dataset[index]\n",
    "image = item[0]\n",
    "true_target = item[1]\n",
    "prediction = Model(image[None, ...].float())\n",
    "#np.savetxt('output.csv', arr)"
   ]
  },
  {
   "cell_type": "code",
   "execution_count": 102,
   "id": "91e39711",
   "metadata": {},
   "outputs": [
    {
     "ename": "AttributeError",
     "evalue": "'numpy.ndarray' object has no attribute 'save'",
     "output_type": "error",
     "traceback": [
      "\u001b[0;31m---------------------------------------------------------------------------\u001b[0m",
      "\u001b[0;31mAttributeError\u001b[0m                            Traceback (most recent call last)",
      "\u001b[0;32m/tmp/ipykernel_434160/2584191970.py\u001b[0m in \u001b[0;36m<module>\u001b[0;34m\u001b[0m\n\u001b[1;32m      1\u001b[0m \u001b[0mp\u001b[0m\u001b[0;34m=\u001b[0m\u001b[0mprediction\u001b[0m\u001b[0;34m.\u001b[0m\u001b[0mdetach\u001b[0m\u001b[0;34m(\u001b[0m\u001b[0;34m)\u001b[0m\u001b[0;34m.\u001b[0m\u001b[0mnumpy\u001b[0m\u001b[0;34m(\u001b[0m\u001b[0;34m)\u001b[0m\u001b[0;34m\u001b[0m\u001b[0;34m\u001b[0m\u001b[0m\n\u001b[1;32m      2\u001b[0m \u001b[0;34m\u001b[0m\u001b[0m\n\u001b[0;32m----> 3\u001b[0;31m \u001b[0mp\u001b[0m\u001b[0;34m.\u001b[0m\u001b[0msave\u001b[0m\u001b[0;34m(\u001b[0m\u001b[0;34m'/Users/eudari01/GNNs_Vs_CNNs/prediction/Patient_ID_prediction.txt'\u001b[0m\u001b[0;34m)\u001b[0m\u001b[0;34m\u001b[0m\u001b[0;34m\u001b[0m\u001b[0m\n\u001b[0m",
      "\u001b[0;31mAttributeError\u001b[0m: 'numpy.ndarray' object has no attribute 'save'"
     ]
    }
   ],
   "source": [
    "p=prediction.detach().numpy()\n",
    "\n",
    "p.save('/Users/eudari01/GNNs_Vs_CNNs/prediction/Patient_ID_prediction.txt')"
   ]
  },
  {
   "cell_type": "code",
   "execution_count": 176,
   "id": "9358987b",
   "metadata": {},
   "outputs": [
    {
     "name": "stderr",
     "output_type": "stream",
     "text": [
      "2022-06-24 10:52:36.811337: W tensorflow/stream_executor/platform/default/dso_loader.cc:64] Could not load dynamic library 'libcuda.so.1'; dlerror: libcuda.so.1: cannot open shared object file: No such file or directory\n",
      "2022-06-24 10:52:36.811378: W tensorflow/stream_executor/cuda/cuda_driver.cc:269] failed call to cuInit: UNKNOWN ERROR (303)\n",
      "2022-06-24 10:52:36.811401: I tensorflow/stream_executor/cuda/cuda_diagnostics.cc:156] kernel driver does not appear to be running on this host (895wy03): /proc/driver/nvidia/version does not exist\n",
      "2022-06-24 10:52:36.813424: I tensorflow/core/platform/cpu_feature_guard.cc:151] This TensorFlow binary is optimized with oneAPI Deep Neural Network Library (oneDNN) to use the following CPU instructions in performance-critical operations:  AVX2 AVX512F FMA\n",
      "To enable them in other operations, rebuild TensorFlow with the appropriate compiler flags.\n"
     ]
    },
    {
     "ename": "ValueError",
     "evalue": "Attempt to convert a value (tensor([1.7689], grad_fn=<MaxBackward0>)) with an unsupported type (<class 'torch.Tensor'>) to a Tensor.",
     "output_type": "error",
     "traceback": [
      "\u001b[0;31m---------------------------------------------------------------------------\u001b[0m",
      "\u001b[0;31mValueError\u001b[0m                                Traceback (most recent call last)",
      "\u001b[0;32m/tmp/ipykernel_434160/3993271990.py\u001b[0m in \u001b[0;36m<module>\u001b[0;34m\u001b[0m\n\u001b[1;32m      1\u001b[0m \u001b[0;32mimport\u001b[0m \u001b[0mtensorflow\u001b[0m \u001b[0;32mas\u001b[0m \u001b[0mtf\u001b[0m\u001b[0;34m\u001b[0m\u001b[0;34m\u001b[0m\u001b[0m\n\u001b[0;32m----> 2\u001b[0;31m \u001b[0mtensor\u001b[0m \u001b[0;34m=\u001b[0m \u001b[0mtf\u001b[0m\u001b[0;34m.\u001b[0m\u001b[0mmultiply\u001b[0m\u001b[0;34m(\u001b[0m \u001b[0mpredicted\u001b[0m\u001b[0;34m,\u001b[0m \u001b[0;36m42\u001b[0m\u001b[0;34m)\u001b[0m\u001b[0;34m\u001b[0m\u001b[0;34m\u001b[0m\u001b[0m\n\u001b[0m\u001b[1;32m      3\u001b[0m \u001b[0mtensor\u001b[0m\u001b[0;34m.\u001b[0m\u001b[0mnumpy\u001b[0m\u001b[0;34m(\u001b[0m\u001b[0;34m)\u001b[0m\u001b[0;34m\u001b[0m\u001b[0;34m\u001b[0m\u001b[0m\n",
      "\u001b[0;32m~/anaconda3/lib/python3.9/site-packages/tensorflow/python/util/traceback_utils.py\u001b[0m in \u001b[0;36merror_handler\u001b[0;34m(*args, **kwargs)\u001b[0m\n\u001b[1;32m    151\u001b[0m     \u001b[0;32mexcept\u001b[0m \u001b[0mException\u001b[0m \u001b[0;32mas\u001b[0m \u001b[0me\u001b[0m\u001b[0;34m:\u001b[0m\u001b[0;34m\u001b[0m\u001b[0;34m\u001b[0m\u001b[0m\n\u001b[1;32m    152\u001b[0m       \u001b[0mfiltered_tb\u001b[0m \u001b[0;34m=\u001b[0m \u001b[0m_process_traceback_frames\u001b[0m\u001b[0;34m(\u001b[0m\u001b[0me\u001b[0m\u001b[0;34m.\u001b[0m\u001b[0m__traceback__\u001b[0m\u001b[0;34m)\u001b[0m\u001b[0;34m\u001b[0m\u001b[0;34m\u001b[0m\u001b[0m\n\u001b[0;32m--> 153\u001b[0;31m       \u001b[0;32mraise\u001b[0m \u001b[0me\u001b[0m\u001b[0;34m.\u001b[0m\u001b[0mwith_traceback\u001b[0m\u001b[0;34m(\u001b[0m\u001b[0mfiltered_tb\u001b[0m\u001b[0;34m)\u001b[0m \u001b[0;32mfrom\u001b[0m \u001b[0;32mNone\u001b[0m\u001b[0;34m\u001b[0m\u001b[0;34m\u001b[0m\u001b[0m\n\u001b[0m\u001b[1;32m    154\u001b[0m     \u001b[0;32mfinally\u001b[0m\u001b[0;34m:\u001b[0m\u001b[0;34m\u001b[0m\u001b[0;34m\u001b[0m\u001b[0m\n\u001b[1;32m    155\u001b[0m       \u001b[0;32mdel\u001b[0m \u001b[0mfiltered_tb\u001b[0m\u001b[0;34m\u001b[0m\u001b[0;34m\u001b[0m\u001b[0m\n",
      "\u001b[0;32m~/anaconda3/lib/python3.9/site-packages/tensorflow/python/framework/constant_op.py\u001b[0m in \u001b[0;36mconvert_to_eager_tensor\u001b[0;34m(value, ctx, dtype)\u001b[0m\n\u001b[1;32m    100\u001b[0m       \u001b[0mdtype\u001b[0m \u001b[0;34m=\u001b[0m \u001b[0mdtypes\u001b[0m\u001b[0;34m.\u001b[0m\u001b[0mas_dtype\u001b[0m\u001b[0;34m(\u001b[0m\u001b[0mdtype\u001b[0m\u001b[0;34m)\u001b[0m\u001b[0;34m.\u001b[0m\u001b[0mas_datatype_enum\u001b[0m\u001b[0;34m\u001b[0m\u001b[0;34m\u001b[0m\u001b[0m\n\u001b[1;32m    101\u001b[0m   \u001b[0mctx\u001b[0m\u001b[0;34m.\u001b[0m\u001b[0mensure_initialized\u001b[0m\u001b[0;34m(\u001b[0m\u001b[0;34m)\u001b[0m\u001b[0;34m\u001b[0m\u001b[0;34m\u001b[0m\u001b[0m\n\u001b[0;32m--> 102\u001b[0;31m   \u001b[0;32mreturn\u001b[0m \u001b[0mops\u001b[0m\u001b[0;34m.\u001b[0m\u001b[0mEagerTensor\u001b[0m\u001b[0;34m(\u001b[0m\u001b[0mvalue\u001b[0m\u001b[0;34m,\u001b[0m \u001b[0mctx\u001b[0m\u001b[0;34m.\u001b[0m\u001b[0mdevice_name\u001b[0m\u001b[0;34m,\u001b[0m \u001b[0mdtype\u001b[0m\u001b[0;34m)\u001b[0m\u001b[0;34m\u001b[0m\u001b[0;34m\u001b[0m\u001b[0m\n\u001b[0m\u001b[1;32m    103\u001b[0m \u001b[0;34m\u001b[0m\u001b[0m\n\u001b[1;32m    104\u001b[0m \u001b[0;34m\u001b[0m\u001b[0m\n",
      "\u001b[0;31mValueError\u001b[0m: Attempt to convert a value (tensor([1.7689], grad_fn=<MaxBackward0>)) with an unsupported type (<class 'torch.Tensor'>) to a Tensor."
     ]
    }
   ],
   "source": [
    "import tensorflow as tf\n",
    "tensor = tf.multiply( predicted, 42)\n",
    "tensor.numpy()"
   ]
  },
  {
   "cell_type": "code",
   "execution_count": null,
   "id": "300434f9",
   "metadata": {},
   "outputs": [],
   "source": []
  },
  {
   "cell_type": "code",
   "execution_count": null,
   "id": "c932bf9f",
   "metadata": {},
   "outputs": [],
   "source": []
  },
  {
   "cell_type": "code",
   "execution_count": 39,
   "id": "5fea2169",
   "metadata": {},
   "outputs": [],
   "source": [
    "Path_patient_ID= ('/Users/eudari01/GNNs_Vs_CNNs/tiles_CIN/train/tiles_has_CIN_HE_trainsetCV_fold_0/MB-0028/train_metastasis'\n",
    ")"
   ]
  },
  {
   "cell_type": "code",
   "execution_count": 99,
   "id": "aa9a270c",
   "metadata": {},
   "outputs": [
    {
     "data": {
      "text/plain": [
       "tensor([[2.2784]], grad_fn=<AddmmBackward0>)"
      ]
     },
     "execution_count": 99,
     "metadata": {},
     "output_type": "execute_result"
    }
   ],
   "source": [
    "prediction = Model(image[None, ...].float())\n",
    "prediction"
   ]
  },
  {
   "cell_type": "code",
   "execution_count": 38,
   "id": "30afba77",
   "metadata": {},
   "outputs": [
    {
     "ename": "TypeError",
     "evalue": "__init__() takes 1 positional argument but 2 were given",
     "output_type": "error",
     "traceback": [
      "\u001b[0;31m---------------------------------------------------------------------------\u001b[0m",
      "\u001b[0;31mTypeError\u001b[0m                                 Traceback (most recent call last)",
      "\u001b[0;32m/tmp/ipykernel_434160/531919211.py\u001b[0m in \u001b[0;36m<module>\u001b[0;34m\u001b[0m\n\u001b[0;32m----> 1\u001b[0;31m \u001b[0mprediction\u001b[0m \u001b[0;34m=\u001b[0m \u001b[0mVGG_19_Regression\u001b[0m\u001b[0;34m(\u001b[0m\u001b[0mPath_patient_ID\u001b[0m\u001b[0;34m)\u001b[0m\u001b[0;34m\u001b[0m\u001b[0;34m\u001b[0m\u001b[0m\n\u001b[0m\u001b[1;32m      2\u001b[0m \u001b[0;34m\u001b[0m\u001b[0m\n\u001b[1;32m      3\u001b[0m \u001b[0;31m#prediction.save('/Users/eudari01/GNNs_Vs_CNNs/prediction/Patient_ID_prediction.txt')\u001b[0m\u001b[0;34m\u001b[0m\u001b[0;34m\u001b[0m\u001b[0m\n",
      "\u001b[0;31mTypeError\u001b[0m: __init__() takes 1 positional argument but 2 were given"
     ]
    }
   ],
   "source": [
    "\n",
    "        for eachtile in Path_patient_ID:\n",
    "            \n",
    "            Model.eval()\n",
    "            \n",
    "            for data, label in patient_valid_loader:\n",
    "                \n",
    "        \n",
    "            prediction = Model(eachtile)\n",
    "        \n",
    "            prediction.save('/Users/eudari01/GNNs_Vs_CNNs/prediction/Patient_ID_prediction.txt')"
   ]
  },
  {
   "cell_type": "code",
   "execution_count": 32,
   "id": "3ec57f26",
   "metadata": {},
   "outputs": [],
   "source": [
    "path = '/Users/eudari01/GNNs_Vs_CNNs/prediction/'\n",
    "  \n",
    "    # Specify the file name\n",
    "file = 'Patient_ID_prediction.txt'\n",
    "  \n",
    "    # Before creating\n",
    "dir_list = os.listdir(path) \n",
    "    \n",
    "  \n",
    "    # Creating a file at specified location\n",
    "with open(os.path.join(path, file), 'w') as fp:\n",
    "    \n",
    "    pass"
   ]
  },
  {
   "cell_type": "code",
   "execution_count": 28,
   "id": "b81db0af",
   "metadata": {},
   "outputs": [],
   "source": [
    "def patientprediction (Model, Path_patient_ID) :\n",
    "    \n",
    "    def __init__(self):\n",
    "    \n",
    "        Model.eval()\n",
    "    \n",
    "        path = '/Users/eudari01/GNNs_Vs_CNNs/prediction/'\n",
    "  \n",
    "    # Specify the file name\n",
    "        file = 'Patient_ID_prediction.txt'\n",
    "  \n",
    "    # Before creating\n",
    "        dir_list = os.listdir(path) \n",
    "    \n",
    "  \n",
    "    # Creating a file at specified location\n",
    "        with open(os.path.join(path, file), 'w') as fp:\n",
    "    \n",
    "            pass\n",
    "\n",
    "        for eachtile in Path_patient_ID: \n",
    "        \n",
    "            prediction = Model(eachtile)\n",
    "        \n",
    "            prediction.save('/Users/eudari01/GNNs_Vs_CNNs/prediction/Patient_ID_prediction.txt')\n",
    "        \n",
    "        return \n",
    "    "
   ]
  },
  {
   "cell_type": "code",
   "execution_count": 29,
   "id": "e73c65c2",
   "metadata": {},
   "outputs": [],
   "source": [
    "Path_patient_ID= ('/Users/eudari01/GNNs_Vs_CNNs/tiles_CIN/train/tiles_has_CIN_HE_trainsetCV_fold_0/MB-0028')\n"
   ]
  },
  {
   "cell_type": "code",
   "execution_count": 30,
   "id": "4d37ebee",
   "metadata": {},
   "outputs": [],
   "source": [
    "patientprediction (VGG_19_Regression, Path_patient_ID) "
   ]
  },
  {
   "cell_type": "code",
   "execution_count": null,
   "id": "ef66be7c",
   "metadata": {},
   "outputs": [],
   "source": [
    "import pandas as pd"
   ]
  },
  {
   "cell_type": "code",
   "execution_count": null,
   "id": "50f395f0",
   "metadata": {},
   "outputs": [],
   "source": [
    "def Patient MSE (path_for_all_patients):\n",
    "    df_MSE = pd.DataFrame()\n",
    "    \n",
    "    for eachpatient in path_for_all_patients:\n",
    "        \n",
    "        file = open('/Users/eudari01/GNNs_Vs_CNNs/prediction/Patient_ID_prediction.txt', 'w')\n",
    "        \n",
    "        # Read a text file to a dataframe using colon delimiters\n",
    "        student_csv =  pd.read_csv('students.txt', sep=':', engine='python')\n",
    " \n",
    "        print(student_csv)\n",
    "        "
   ]
  },
  {
   "cell_type": "code",
   "execution_count": null,
   "id": "2c4d5ab7",
   "metadata": {},
   "outputs": [],
   "source": []
  }
 ],
 "metadata": {
  "kernelspec": {
   "display_name": "Python 3 (ipykernel)",
   "language": "python",
   "name": "python3"
  },
  "language_info": {
   "codemirror_mode": {
    "name": "ipython",
    "version": 3
   },
   "file_extension": ".py",
   "mimetype": "text/x-python",
   "name": "python",
   "nbconvert_exporter": "python",
   "pygments_lexer": "ipython3",
   "version": "3.9.7"
  }
 },
 "nbformat": 4,
 "nbformat_minor": 5
}
