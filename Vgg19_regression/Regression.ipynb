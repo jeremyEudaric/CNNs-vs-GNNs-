{
 "cells": [
  {
   "cell_type": "code",
   "execution_count": 998,
   "id": "0b43d3c3",
   "metadata": {},
   "outputs": [],
   "source": [
    "import glob\n",
    "import os\n",
    "import pickle\n",
    "import sys\n",
    "from pathlib import Path\n",
    "import random\n",
    "from tqdm import tqdm\n",
    "\n",
    "import torchvision.models as models\n",
    "from torch.nn import Module, Dropout\n",
    "import numpy as np\n",
    "import pandas as pd\n",
    "import matplotlib.pyplot as plt\n",
    "import copy\n",
    "import torch\n",
    "import torch.nn as nn\n",
    "import torch.optim as optim\n",
    "from torch.utils.data import DataLoader, Dataset\n",
    "from torch.utils.data import Dataset, DataLoader,TensorDataset,random_split,SubsetRandomSampler, ConcatDataset\n",
    "import torchvision\n",
    "\n",
    "#from pytorchtools import EarlyStopping\n",
    "\n",
    "from sklearn.metrics import mean_squared_error\n",
    "import pandas as pd\n",
    "\n",
    "from torchvision import datasets, models, transforms\n",
    "import time\n",
    "import logging\n",
    "\n",
    "#from sklearn.metrics import mean_squared_error\n",
    "#from sklearn.model_selection import KFold\n",
    "#from sklearn.model_selection import train_test_split\n",
    "#from sklearn.model_selection import GridSearchCV\n",
    "\n"
   ]
  },
  {
   "cell_type": "code",
   "execution_count": 3,
   "id": "e0958986",
   "metadata": {},
   "outputs": [],
   "source": [
    "train_transforms = transforms.Compose([\n",
    "                                    transforms.Resize(224),\n",
    "                                    transforms.RandomVerticalFlip(),\n",
    "                                    transforms.RandomHorizontalFlip(),\n",
    "                                    transforms.ColorJitter(brightness=0, contrast=0, saturation=1, hue=.5),\n",
    "                                    transforms.ToTensor()])\n",
    "\n",
    "\n",
    "val_transforms= transforms.Compose([\n",
    "                                    transforms.Resize(224),\n",
    "                                    transforms.ToTensor()])\n",
    "\n",
    "\n",
    "\n",
    "# cross validaion with 5 folders on the train \n",
    "train_dataset = datasets.ImageFolder('/Users/eudari01/GNNs_Vs_CNNs/tiles_CIN/train/', train_transforms) \n",
    "\n",
    "# cross validaion with 5 folders on the val \n",
    "val_dataset = datasets.ImageFolder('/Users/eudari01/GNNs_Vs_CNNs/tiles_CIN/val/', val_transforms) \n",
    "\n",
    "\n",
    "batch_size = 48\n",
    "train_loader = torch.utils.data.DataLoader(train_dataset, batch_size=batch_size, num_workers=16, shuffle=True)\n",
    "valid_loader= torch.utils.data.DataLoader(val_dataset, batch_size=batch_size, num_workers=16, shuffle=True)\n",
    "\n",
    "                         "
   ]
  },
  {
   "cell_type": "code",
   "execution_count": 5,
   "id": "43df0dd5",
   "metadata": {},
   "outputs": [],
   "source": [
    "#chesk the classes \n",
    "#train_dataset.classes\n"
   ]
  },
  {
   "cell_type": "code",
   "execution_count": 6,
   "id": "d7a3e5e9",
   "metadata": {},
   "outputs": [],
   "source": [
    "#model = torch.hub.load('pytorch/vision:v0.10.0', 'vgg19_bn', pretrained=True)"
   ]
  },
  {
   "cell_type": "code",
   "execution_count": 7,
   "id": "446a5543",
   "metadata": {},
   "outputs": [],
   "source": [
    "#model.eval()"
   ]
  },
  {
   "cell_type": "code",
   "execution_count": 4,
   "id": "ce4e4c1a",
   "metadata": {},
   "outputs": [],
   "source": [
    "class VGG_19_Regression(Module):\n",
    "    \n",
    "    def __init__(self,):\n",
    "        \n",
    "        model = torch.hub.load('pytorch/vision:v0.10.0', 'vgg19_bn', pretrained=True)\n",
    "        \n",
    "        super(VGG_19_Regression,self).__init__()\n",
    "        self.model= model\n",
    "        self.Regression = nn.Linear(1000,1)\n",
    "        self.dropout = Dropout(0.5)\n",
    "        \n",
    "           \n",
    "         \n",
    "    def forward(self, out):\n",
    "        \n",
    "        x= self.model(out)\n",
    "        \n",
    "        x = x.view(x.size(0), -1) # flatten\n",
    "        \n",
    "        x = self.dropout(x)\n",
    "        \n",
    "        x =self.Regression(x)\n",
    "        \n",
    "        return x"
   ]
  },
  {
   "cell_type": "code",
   "execution_count": 9,
   "id": "76cea0df",
   "metadata": {},
   "outputs": [],
   "source": [
    "#device = torch.device(\"cuda\" if torch.cuda.is_available() else \"cpu\")\n",
    "#Model = models.vgg19(pretrained=True).features.to(device).eval()"
   ]
  },
  {
   "cell_type": "code",
   "execution_count": 5,
   "id": "7bfd92fe",
   "metadata": {},
   "outputs": [
    {
     "name": "stderr",
     "output_type": "stream",
     "text": [
      "Using cache found in /Users/eudari01/.cache/torch/hub/pytorch_vision_v0.10.0\n"
     ]
    }
   ],
   "source": [
    "Model= VGG_19_Regression()\n",
    "\n",
    "MSE = torch.nn.MSELoss()\n",
    "optimizer = torch.optim.SGD(Model.parameters(), lr=0.00001,momentum=0.9)\n"
   ]
  },
  {
   "cell_type": "code",
   "execution_count": 6,
   "id": "44c8ac1c",
   "metadata": {},
   "outputs": [],
   "source": [
    "#train_accuracy=[]\n",
    "train_loss = []\n",
    "val_loss = []\n",
    "\n",
    "def training(epoch):\n",
    "      \n",
    "    for i in range(5) : \n",
    "     \n",
    "        \n",
    "      \n",
    "        epoch_loss = 0.0\n",
    "        running_loss_train=0.0\n",
    "   \n",
    "        for data, label in tqdm(train_loader):\n",
    "        \n",
    "            label= label.to(torch.float32)\n",
    "            label = label.unsqueeze(1)\n",
    "\n",
    "         \n",
    "        #Transfer Data to GPU if available\n",
    "        #if torch.cuda.is_available():\n",
    "            #data = data.cuda()\n",
    "            #label = label.cuda()\n",
    "            #Model.train()\n",
    "            output = Model(data)\n",
    "            #you can change the loss and use MSE or Cross Entropy\n",
    "            loss = MSE(output,label)\n",
    "           \n",
    "            # Clear the gradients\n",
    "            optimizer.zero_grad()\n",
    "            \n",
    "            loss.backward()\n",
    "            optimizer.step()\n",
    "            \n",
    "            #Calculate accuracy \n",
    "            #prediction_train=output.argmax(dim=1)\n",
    "           # acc = (prediction_train== label1).float().mean()\n",
    "        \n",
    "            running_loss_train =+ loss.item()* data.size(0) \n",
    "            #Epoch\n",
    "            #epoch_accuracy += acc.item() / len(train_loader)\n",
    "            epoch_loss += running_loss_train / len(train_loader)\n",
    "            \n",
    "            \n",
    "        Model.eval()\n",
    "        epoch_val_loss = 0.0\n",
    "        running_loss_val= 0.0\n",
    "        \n",
    "  \n",
    "        \n",
    "        for data, label in valid_loader:\n",
    "            #if torch.cuda.is_available():\n",
    "                \n",
    "                #data = data.cuda()\n",
    "                #label = label.cuda()\n",
    "                #label= label.to(torch.float32)\n",
    "                #label = label.unsqueeze(1)\n",
    "    \n",
    "                output = Model(data)\n",
    "                \n",
    "                loss = MSE(output, label)\n",
    "                \n",
    "                # Clear the gradients\n",
    "                #optimizer.zero_grad()\n",
    "                \n",
    "                #val_loss.backward()\n",
    "                \n",
    "                #optimizer.step()\n",
    "                #Calculate accuracy \n",
    "                #prediction_val= val_output.argmax(dim=1)\n",
    "                \n",
    "                #mse_val=mean_squared_error(label,prediction_val)\n",
    "                \n",
    "                #val_acc = (prediction_val == label).float().mean()\n",
    "                \n",
    "                running_loss_val =+ loss.item()* data.size(0) \n",
    "               \n",
    "                #Epoch\n",
    "                #epoch_val_accuracy += val_acc.item() / len(valid_loader)\n",
    "                epoch_val_loss += running_loss_val / len(valid_loader)\n",
    "\n",
    "                    \n",
    "            \n",
    "        val_loss.append(epoch_val_loss)\n",
    "        train_loss.append(epoch_loss)\n",
    "    #train_accuracy.append(epoch_accuracy)\n",
    "        #print('Split: {}'.format(i))                \n",
    "        print(\n",
    "            f\"Epoch : {epoch+1} - train_loss : {epoch_loss:.4f} - val_loss : {epoch_val_loss:.4f} \\n\")"
   ]
  },
  {
   "cell_type": "code",
   "execution_count": 7,
   "id": "9440fd81",
   "metadata": {},
   "outputs": [
    {
     "name": "stderr",
     "output_type": "stream",
     "text": [
      "100%|███████████████████████████████████████████| 61/61 [17:18<00:00, 17.03s/it]\n",
      "/Users/eudari01/anaconda3/lib/python3.9/site-packages/torch/nn/modules/loss.py:520: UserWarning: Using a target size (torch.Size([48])) that is different to the input size (torch.Size([48, 1])). This will likely lead to incorrect results due to broadcasting. Please ensure they have the same size.\n",
      "  return F.mse_loss(input, target, reduction=self.reduction)\n",
      "/Users/eudari01/anaconda3/lib/python3.9/site-packages/torch/nn/modules/loss.py:520: UserWarning: Using a target size (torch.Size([7])) that is different to the input size (torch.Size([7, 1])). This will likely lead to incorrect results due to broadcasting. Please ensure they have the same size.\n",
      "  return F.mse_loss(input, target, reduction=self.reduction)\n",
      "  0%|                                                    | 0/61 [00:00<?, ?it/s]"
     ]
    },
    {
     "name": "stdout",
     "output_type": "stream",
     "text": [
      "Epoch : 2 - train_loss : 198.5318 - val_loss : 104.6466 \n",
      "\n"
     ]
    },
    {
     "name": "stderr",
     "output_type": "stream",
     "text": [
      "100%|███████████████████████████████████████████| 61/61 [16:49<00:00, 16.55s/it]\n",
      "  0%|                                                    | 0/61 [00:00<?, ?it/s]"
     ]
    },
    {
     "name": "stdout",
     "output_type": "stream",
     "text": [
      "Epoch : 2 - train_loss : 104.3880 - val_loss : 101.2743 \n",
      "\n"
     ]
    },
    {
     "name": "stderr",
     "output_type": "stream",
     "text": [
      "100%|███████████████████████████████████████████| 61/61 [16:47<00:00, 16.52s/it]\n",
      "  0%|                                                    | 0/61 [00:00<?, ?it/s]"
     ]
    },
    {
     "name": "stdout",
     "output_type": "stream",
     "text": [
      "Epoch : 2 - train_loss : 102.6392 - val_loss : 93.1937 \n",
      "\n"
     ]
    },
    {
     "name": "stderr",
     "output_type": "stream",
     "text": [
      "100%|███████████████████████████████████████████| 61/61 [16:51<00:00, 16.58s/it]\n",
      "  0%|                                                    | 0/61 [00:00<?, ?it/s]"
     ]
    },
    {
     "name": "stdout",
     "output_type": "stream",
     "text": [
      "Epoch : 2 - train_loss : 100.5850 - val_loss : 95.7866 \n",
      "\n"
     ]
    },
    {
     "name": "stderr",
     "output_type": "stream",
     "text": [
      "100%|███████████████████████████████████████████| 61/61 [16:51<00:00, 16.59s/it]\n",
      "  0%|                                                    | 0/61 [00:00<?, ?it/s]"
     ]
    },
    {
     "name": "stdout",
     "output_type": "stream",
     "text": [
      "Epoch : 2 - train_loss : 99.0143 - val_loss : 94.2361 \n",
      "\n"
     ]
    },
    {
     "name": "stderr",
     "output_type": "stream",
     "text": [
      "100%|███████████████████████████████████████████| 61/61 [16:50<00:00, 16.56s/it]\n",
      "  0%|                                                    | 0/61 [00:00<?, ?it/s]"
     ]
    },
    {
     "name": "stdout",
     "output_type": "stream",
     "text": [
      "Epoch : 3 - train_loss : 98.7961 - val_loss : 104.8711 \n",
      "\n"
     ]
    },
    {
     "name": "stderr",
     "output_type": "stream",
     "text": [
      "100%|███████████████████████████████████████████| 61/61 [16:54<00:00, 16.64s/it]\n",
      "  0%|                                                    | 0/61 [00:00<?, ?it/s]"
     ]
    },
    {
     "name": "stdout",
     "output_type": "stream",
     "text": [
      "Epoch : 3 - train_loss : 98.2802 - val_loss : 91.5123 \n",
      "\n"
     ]
    },
    {
     "name": "stderr",
     "output_type": "stream",
     "text": [
      "100%|███████████████████████████████████████████| 61/61 [16:56<00:00, 16.66s/it]\n",
      "  0%|                                                    | 0/61 [00:00<?, ?it/s]"
     ]
    },
    {
     "name": "stdout",
     "output_type": "stream",
     "text": [
      "Epoch : 3 - train_loss : 97.1217 - val_loss : 93.2084 \n",
      "\n"
     ]
    },
    {
     "name": "stderr",
     "output_type": "stream",
     "text": [
      "100%|███████████████████████████████████████████| 61/61 [16:55<00:00, 16.65s/it]\n",
      "  0%|                                                    | 0/61 [00:00<?, ?it/s]"
     ]
    },
    {
     "name": "stdout",
     "output_type": "stream",
     "text": [
      "Epoch : 3 - train_loss : 96.7735 - val_loss : 91.4922 \n",
      "\n"
     ]
    },
    {
     "name": "stderr",
     "output_type": "stream",
     "text": [
      "100%|███████████████████████████████████████████| 61/61 [16:53<00:00, 16.61s/it]\n",
      "  0%|                                                    | 0/61 [00:00<?, ?it/s]"
     ]
    },
    {
     "name": "stdout",
     "output_type": "stream",
     "text": [
      "Epoch : 3 - train_loss : 97.1342 - val_loss : 91.1122 \n",
      "\n"
     ]
    },
    {
     "name": "stderr",
     "output_type": "stream",
     "text": [
      "100%|███████████████████████████████████████████| 61/61 [16:50<00:00, 16.57s/it]\n",
      "  0%|                                                    | 0/61 [00:00<?, ?it/s]"
     ]
    },
    {
     "name": "stdout",
     "output_type": "stream",
     "text": [
      "Epoch : 4 - train_loss : 97.3862 - val_loss : 93.6766 \n",
      "\n"
     ]
    },
    {
     "name": "stderr",
     "output_type": "stream",
     "text": [
      "100%|███████████████████████████████████████████| 61/61 [16:55<00:00, 16.65s/it]\n",
      "  0%|                                                    | 0/61 [00:00<?, ?it/s]"
     ]
    },
    {
     "name": "stdout",
     "output_type": "stream",
     "text": [
      "Epoch : 4 - train_loss : 97.6438 - val_loss : 91.8514 \n",
      "\n"
     ]
    },
    {
     "name": "stderr",
     "output_type": "stream",
     "text": [
      "100%|███████████████████████████████████████████| 61/61 [16:48<00:00, 16.54s/it]\n",
      "  0%|                                                    | 0/61 [00:00<?, ?it/s]"
     ]
    },
    {
     "name": "stdout",
     "output_type": "stream",
     "text": [
      "Epoch : 4 - train_loss : 96.4948 - val_loss : 90.1754 \n",
      "\n"
     ]
    },
    {
     "name": "stderr",
     "output_type": "stream",
     "text": [
      "100%|███████████████████████████████████████████| 61/61 [16:51<00:00, 16.59s/it]\n",
      "  0%|                                                    | 0/61 [00:00<?, ?it/s]"
     ]
    },
    {
     "name": "stdout",
     "output_type": "stream",
     "text": [
      "Epoch : 4 - train_loss : 97.0111 - val_loss : 91.9637 \n",
      "\n"
     ]
    },
    {
     "name": "stderr",
     "output_type": "stream",
     "text": [
      "100%|███████████████████████████████████████████| 61/61 [16:40<00:00, 16.41s/it]\n",
      "  0%|                                                    | 0/61 [00:00<?, ?it/s]"
     ]
    },
    {
     "name": "stdout",
     "output_type": "stream",
     "text": [
      "Epoch : 4 - train_loss : 95.9387 - val_loss : 91.5774 \n",
      "\n"
     ]
    },
    {
     "name": "stderr",
     "output_type": "stream",
     "text": [
      "100%|███████████████████████████████████████████| 61/61 [16:36<00:00, 16.33s/it]\n",
      "  0%|                                                    | 0/61 [00:00<?, ?it/s]"
     ]
    },
    {
     "name": "stdout",
     "output_type": "stream",
     "text": [
      "Epoch : 5 - train_loss : 96.6626 - val_loss : 92.1217 \n",
      "\n"
     ]
    },
    {
     "name": "stderr",
     "output_type": "stream",
     "text": [
      "100%|███████████████████████████████████████████| 61/61 [16:33<00:00, 16.28s/it]\n",
      "  0%|                                                    | 0/61 [00:00<?, ?it/s]"
     ]
    },
    {
     "name": "stdout",
     "output_type": "stream",
     "text": [
      "Epoch : 5 - train_loss : 96.1591 - val_loss : 92.9518 \n",
      "\n"
     ]
    },
    {
     "name": "stderr",
     "output_type": "stream",
     "text": [
      "100%|███████████████████████████████████████████| 61/61 [16:26<00:00, 16.17s/it]\n",
      "  0%|                                                    | 0/61 [00:00<?, ?it/s]"
     ]
    },
    {
     "name": "stdout",
     "output_type": "stream",
     "text": [
      "Epoch : 5 - train_loss : 96.0044 - val_loss : 90.3634 \n",
      "\n"
     ]
    },
    {
     "name": "stderr",
     "output_type": "stream",
     "text": [
      "100%|███████████████████████████████████████████| 61/61 [16:10<00:00, 15.91s/it]\n",
      "  0%|                                                    | 0/61 [00:00<?, ?it/s]"
     ]
    },
    {
     "name": "stdout",
     "output_type": "stream",
     "text": [
      "Epoch : 5 - train_loss : 96.0132 - val_loss : 91.3176 \n",
      "\n"
     ]
    },
    {
     "name": "stderr",
     "output_type": "stream",
     "text": [
      "100%|███████████████████████████████████████████| 61/61 [15:56<00:00, 15.68s/it]\n",
      "  0%|                                                    | 0/61 [00:00<?, ?it/s]"
     ]
    },
    {
     "name": "stdout",
     "output_type": "stream",
     "text": [
      "Epoch : 5 - train_loss : 95.1435 - val_loss : 89.9238 \n",
      "\n"
     ]
    },
    {
     "name": "stderr",
     "output_type": "stream",
     "text": [
      "100%|███████████████████████████████████████████| 61/61 [15:59<00:00, 15.73s/it]\n",
      "  0%|                                                    | 0/61 [00:00<?, ?it/s]"
     ]
    },
    {
     "name": "stdout",
     "output_type": "stream",
     "text": [
      "Epoch : 6 - train_loss : 95.8815 - val_loss : 89.8418 \n",
      "\n"
     ]
    },
    {
     "name": "stderr",
     "output_type": "stream",
     "text": [
      "100%|███████████████████████████████████████████| 61/61 [15:59<00:00, 15.73s/it]\n",
      "  0%|                                                    | 0/61 [00:00<?, ?it/s]"
     ]
    },
    {
     "name": "stdout",
     "output_type": "stream",
     "text": [
      "Epoch : 6 - train_loss : 97.1110 - val_loss : 90.6401 \n",
      "\n"
     ]
    },
    {
     "name": "stderr",
     "output_type": "stream",
     "text": [
      "100%|███████████████████████████████████████████| 61/61 [16:05<00:00, 15.84s/it]\n",
      "  0%|                                                    | 0/61 [00:00<?, ?it/s]"
     ]
    },
    {
     "name": "stdout",
     "output_type": "stream",
     "text": [
      "Epoch : 6 - train_loss : 96.0611 - val_loss : 91.0066 \n",
      "\n"
     ]
    },
    {
     "name": "stderr",
     "output_type": "stream",
     "text": [
      "100%|███████████████████████████████████████████| 61/61 [16:03<00:00, 15.80s/it]\n",
      "  0%|                                                    | 0/61 [00:00<?, ?it/s]"
     ]
    },
    {
     "name": "stdout",
     "output_type": "stream",
     "text": [
      "Epoch : 6 - train_loss : 95.0228 - val_loss : 90.3243 \n",
      "\n"
     ]
    },
    {
     "name": "stderr",
     "output_type": "stream",
     "text": [
      "100%|███████████████████████████████████████████| 61/61 [16:08<00:00, 15.88s/it]\n"
     ]
    },
    {
     "name": "stdout",
     "output_type": "stream",
     "text": [
      "Epoch : 6 - train_loss : 96.3428 - val_loss : 91.4109 \n",
      "\n"
     ]
    }
   ],
   "source": [
    "epochs=5\n",
    "for epoch in range(1,epochs+1):\n",
    "     training(epoch)"
   ]
  },
  {
   "cell_type": "code",
   "execution_count": 8,
   "id": "e442022e",
   "metadata": {},
   "outputs": [
    {
     "data": {
      "image/png": "[encoded data removed]",
      "text/plain": [
       "<Figure size 432x288 with 1 Axes>"
      ]
     },
     "metadata": {
      "needs_background": "light"
     },
     "output_type": "display_data"
    }
   ],
   "source": [
    "# to check the overfiting \n",
    "plt.title(\"Training and Validation Loss\")\n",
    "plt.plot(train_loss, 'bo-',label=\"train\")\n",
    "plt.plot(val_loss, 'ro-',label=\"val\")\n",
    "plt.xlabel(\"iterations\")\n",
    "plt.ylabel(\"Loss\")\n",
    "plt.legend()\n",
    "plt.savefig\n",
    "plt.show()"
   ]
  },
  {
   "cell_type": "markdown",
   "id": "baca1002",
   "metadata": {},
   "source": [
    "Aggregation Patient level"
   ]
  },
  {
   "cell_type": "code",
   "execution_count": 582,
   "id": "7f1a265a",
   "metadata": {},
   "outputs": [],
   "source": [
    "import pandas as pd"
   ]
  },
  {
   "cell_type": "code",
   "execution_count": 773,
   "id": "84cf28d8",
   "metadata": {},
   "outputs": [],
   "source": [
    "def prediction(path,Patient_ID):\n",
    "\n",
    "    predict=[]\n",
    "    images= os.listdir('/Users/eudari01/GNNs_Vs_CNNs/'+path) \n",
    "\n",
    "    for eachtiles in images:\n",
    "        \n",
    "        Model.eval()\n",
    "        \n",
    "        img = Image.open('/Users/eudari01/GNNs_Vs_CNNs/'+path+ eachtiles)\n",
    "       \n",
    "        #convert the image to a tensor\n",
    "        convert_tensor = transforms.ToTensor()\n",
    "        image = convert_tensor(img)\n",
    "        # the model, prediction\n",
    "        outputs=Model(image[None, ...].float())\n",
    "        \n",
    "        predicted = outputs.data.numpy()\n",
    "        predict.append(predicted) \n",
    "        \n",
    "        # save the file into a text file \n",
    "        x = np.array(predict)\n",
    "        y=list(x.flatten())\n",
    "        np.savetxt(Patient_ID + '.txt', y,delimiter=',')\n",
    "        #df = pd.read_csv (Patient_ID +'.txt')\n",
    "        #df = pd.DataFrame(df, columns = [Patient_ID ])\n",
    "        \n",
    "        #df.to_csv(Patient_ID +'.csv')\n",
    "\n",
    "     \n",
    "    return\n",
    "        \n",
    "        \n",
    "        "
   ]
  },
  {
   "cell_type": "code",
   "execution_count": 765,
   "id": "9f377d5a",
   "metadata": {},
   "outputs": [],
   "source": [
    "#get the prediction for one split and all the tiles \n",
    "def AllIDprediction(path):\n",
    "    \n",
    "    allID= os.listdir('/Users/eudari01/GNNs_Vs_CNNs/'+ path)\n",
    "    for ID in allID :\n",
    "\n",
    "        prediction('/tiles_CIN/train/tiles_has_CIN_HE_trainsetCV_fold_0/'+ ID+'/train_metastasis/',ID )"
   ]
  },
  {
   "cell_type": "code",
   "execution_count": 949,
   "id": "c51b3787",
   "metadata": {},
   "outputs": [],
   "source": [
    "#images= os.listdir('/Users/eudari01/GNNs_Vs_CNNs/tiles_CIN/train/tiles_has_CIN_HE_trainsetCV_fold_0/'+'')"
   ]
  },
  {
   "cell_type": "code",
   "execution_count": 1027,
   "id": "46c6fd43",
   "metadata": {},
   "outputs": [],
   "source": [
    "#predictionsfiles= ('/Users/eudari01/GNNs_Vs_CNNs/predictions/')\n",
    "#txt_files= os.listdir('/Users/eudari01/GNNs_Vs_CNNs/predictions/')\n",
    "#y_true= pd.read_csv('/Users/eudari01/GNNs_Vs_CNNs/CIN_log.csv',encoding='utf8')\n",
    "#y_true[\"CIN_log_0\"]\n",
    "#MSE = np.mean((y_true[\"CIN_log_0\"]- y_pred)**2, axis=1)\n",
    "#MSE"
   ]
  },
  {
   "cell_type": "code",
   "execution_count": 1047,
   "id": "d0771b04",
   "metadata": {},
   "outputs": [],
   "source": [
    "def MSE(path_prediction_files, real_labels_path, CIN_log_columns):\n",
    "   \n",
    "    # txt files with all the predictions for each patient\n",
    "    txt_files= os.listdir(path_prediction_files)\n",
    "    df = pd.DataFrame()\n",
    "\n",
    "    for eachfile in txt_files:\n",
    "        \n",
    "        frame = pd.read_csv(path_prediction_files+ eachfile,header=None)\n",
    "        t=frame.mean().reset_index()\n",
    "        df = df.append(t)\n",
    "        #df = df.drop('index', 1)\n",
    "        # predictions for each patients \n",
    "        y_pred=df.reset_index(drop=True)\n",
    "        # load the reals labels\n",
    "        y_true= pd.read_csv(real_labels_path,encoding='utf8')\n",
    "        # selct the colums reagrding the split\n",
    "        y_true[CIN_log_columns]\n",
    "        \n",
    "        #calculate the MSE for each patient \n",
    "        MSE = np.mean((y_true[CIN_log_columns]- y_pred)**2, axis=1)\n",
    "        \n",
    "        #calcuate the global MSE\n",
    "\n",
    "        #Global_MSE= mean_squared_error(y_true = y_true[CIN_log_columns], y_pred = y_pred)\n",
    "        \n",
    "        \n",
    "    return MSE"
   ]
  },
  {
   "cell_type": "code",
   "execution_count": 1048,
   "id": "8a917efc",
   "metadata": {},
   "outputs": [
    {
     "data": {
      "text/plain": [
       "0     4.675869\n",
       "1     5.120019\n",
       "2     5.477235\n",
       "3     5.442804\n",
       "4     5.604646\n",
       "        ...   \n",
       "65    5.015677\n",
       "66    5.119683\n",
       "67    4.507820\n",
       "68    5.183282\n",
       "69    5.260168\n",
       "Length: 70, dtype: float64"
      ]
     },
     "execution_count": 1048,
     "metadata": {},
     "output_type": "execute_result"
    }
   ],
   "source": [
    "MSE('/Users/eudari01/GNNs_Vs_CNNs/predictions/', '/Users/eudari01/GNNs_Vs_CNNs/CIN_log.csv', \"CIN_log_0\")"
   ]
  },
  {
   "cell_type": "code",
   "execution_count": 1049,
   "id": "6013437c",
   "metadata": {},
   "outputs": [
    {
     "data": {
      "image/png": "[encoded data removed]",
      "text/plain": [
       "<Figure size 432x288 with 1 Axes>"
      ]
     },
     "metadata": {
      "needs_background": "light"
     },
     "output_type": "display_data"
    }
   ],
   "source": [
    "plt.title(\"MSE\")\n",
    "plt.plot(MSE('/Users/eudari01/GNNs_Vs_CNNs/predictions/', '/Users/eudari01/GNNs_Vs_CNNs/CIN_log.csv', \"CIN_log_0\"), 'bo-',label=\"MSE\")\n",
    "plt.xlabel(\"iterations\")\n",
    "plt.ylabel(\"Loss\")\n",
    "plt.legend()\n",
    "plt.savefig\n",
    "plt.show()"
   ]
  },
  {
   "cell_type": "code",
   "execution_count": 1051,
   "id": "bdf62209",
   "metadata": {},
   "outputs": [
    {
     "data": {
      "text/plain": [
       "9.831903887522527"
      ]
     },
     "execution_count": 1051,
     "metadata": {},
     "output_type": "execute_result"
    }
   ],
   "source": [
    "  #calcuate the global MSE\n",
    "from sklearn.metrics import mean_squared_error\n",
    "mean_squared_error(y_true = y_true[\"CIN_log_0\"], y_pred = y_pred)\n"
   ]
  }
 ],
 "metadata": {
  "kernelspec": {
   "display_name": "Python 3 (ipykernel)",
   "language": "python",
   "name": "python3"
  },
  "language_info": {
   "codemirror_mode": {
    "name": "ipython",
    "version": 3
   },
   "file_extension": ".py",
   "mimetype": "text/x-python",
   "name": "python",
   "nbconvert_exporter": "python",
   "pygments_lexer": "ipython3",
   "version": "3.9.7"
  }
 },
 "nbformat": 4,
 "nbformat_minor": 5
}
