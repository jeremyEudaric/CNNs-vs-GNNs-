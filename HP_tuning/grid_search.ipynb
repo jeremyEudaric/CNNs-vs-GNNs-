{
 "cells": [
  {
   "cell_type": "code",
   "execution_count": 51,
   "id": "be02ec77",
   "metadata": {},
   "outputs": [],
   "source": [
    "node_feat_size = 120 #Change\n",
    "edge_feat_size = 400 #Do we want to add weights?\n",
    "n_tasks = 1 #Change\n",
    "labeltouse = 'CIN'\n",
    "layertype = 'SAGE' #do another scheduler for GAT + nheads\n",
    "nheads = 0\n",
    "k = 0#discr missingfor dist in [20,40,80]:momentum"
   ]
  },
  {
   "cell_type": "code",
   "execution_count": 53,
   "id": "f31e4b01",
   "metadata": {},
   "outputs": [],
   "source": [
    "for dist in [20,40,80]:\n",
    "\n",
    "    lines = []\n",
    "title_line = 'batch_size,dropout,lr,rmomentum\\n'                              \n",
    "lines.append(title_line)\n",
    "\n",
    "for batch_size in [10,20,30,40,50,60]:\n",
    "    for dropout in [0.2,0.3,0.4,0.5]:\n",
    "        for lr in [0.01,0.001,0.0001,0.00001,0.1]:\n",
    "            for momentum in [0.4,0.5,0.6,0.7,0.8,0.9]:\n",
    "                    \n",
    "                mylr = lr\n",
    "                eachLine = '{},{},{},{},{}\\n'.format(labeltouse,batch_size,dropout,lr,momentum)\n",
    "                lines.append(eachLine) \n",
    "                    \n",
    "                    \n",
    "with open(str(dist)+'_'+layertype+'_'+labeltouse+'_HP.txt', 'w') as f:\n",
    "    for line in lines:\n",
    "        f.write(line)"
   ]
  },
  {
   "cell_type": "code",
   "execution_count": null,
   "id": "d29b4547",
   "metadata": {},
   "outputs": [],
   "source": []
  }
 ],
 "metadata": {
  "kernelspec": {
   "display_name": "Python 3 (ipykernel)",
   "language": "python",
   "name": "python3"
  },
  "language_info": {
   "codemirror_mode": {
    "name": "ipython",
    "version": 3
   },
   "file_extension": ".py",
   "mimetype": "text/x-python",
   "name": "python",
   "nbconvert_exporter": "python",
   "pygments_lexer": "ipython3",
   "version": "3.9.7"
  }
 },
 "nbformat": 4,
 "nbformat_minor": 5
}
