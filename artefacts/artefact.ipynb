{
 "cells": [
  {
   "cell_type": "markdown",
   "id": "9f98dd32",
   "metadata": {},
   "source": [
    "Artefcat"
   ]
  },
  {
   "cell_type": "code",
   "execution_count": 53,
   "id": "febd5d9a",
   "metadata": {},
   "outputs": [],
   "source": [
    "import numpy as np\n",
    "import matplotlib as plt\n",
    "import matplotlib.pyplot as plt\n",
    "import pandas as pd\n",
    "import os"
   ]
  },
  {
   "cell_type": "code",
   "execution_count": 54,
   "id": "00e96199",
   "metadata": {},
   "outputs": [
    {
     "data": {
      "text/plain": [
       "['MB-0060.csv', 'MB-0028.csv']"
      ]
     },
     "execution_count": 54,
     "metadata": {},
     "output_type": "execute_result"
    }
   ],
   "source": [
    "positions= os.listdir('/Users/eudari01/GNNs_Vs_CNNs/Postions_split_images/test/')\n",
    "positions"
   ]
  },
  {
   "cell_type": "code",
   "execution_count": 55,
   "id": "2192bb4c",
   "metadata": {},
   "outputs": [
    {
     "data": {
      "text/plain": [
       "['MB-0060', 'MB-0028']"
      ]
     },
     "execution_count": 55,
     "metadata": {},
     "output_type": "execute_result"
    }
   ],
   "source": [
    "positions_ID= os.listdir('/Users/eudari01/GNNs_Vs_CNNs/Postions_split_images/test/')\n",
    "positions_ID=[x.split('.csv')[0] for x in positions_ID]\n",
    "positions_ID\n",
    "    "
   ]
  },
  {
   "cell_type": "code",
   "execution_count": 56,
   "id": "253ccdd5",
   "metadata": {},
   "outputs": [],
   "source": [
    "# the directory to save the txt files \n",
    "analysis_dir_path = './artefacts_results/'\n",
    "os.makedirs(analysis_dir_path, exist_ok=True)"
   ]
  },
  {
   "cell_type": "code",
   "execution_count": 63,
   "id": "b6f7c3c2",
   "metadata": {},
   "outputs": [],
   "source": [
    "Df=[]\n",
    "a= []\n",
    "l=[]\n",
    "c=[]\n",
    "o=[]\n",
    "i=[]\n",
    "def checkartefact(path):\n",
    "     \n",
    "    \n",
    "    DF=pd.DataFrame()\n",
    "    \n",
    "    for ID in positions_ID:\n",
    "\n",
    "        F= pd.read_csv(path+ ID +'.csv' ,engine='python',encoding='utf8')\n",
    "\n",
    "\n",
    "    #for i in range(len(F)) :\n",
    "        for eachdataF in F.iloc[:,1] :\n",
    "                if eachdataF== \"a\":\n",
    "                    a.append(eachdataF)\n",
    "                if eachdataF== \"l\":\n",
    "                    l.append(eachdataF)\n",
    "                if eachdataF== \"c\":\n",
    "                    c.append(eachdataF)\n",
    "                if eachdataF== \"o\":\n",
    "                    o.append(eachdataF)\n",
    "                \n",
    "                #probability\n",
    "        \n",
    "                 \n",
    "                A=(len(a)/len(F))*100\n",
    "                L=(len(l)/len(F))*100\n",
    "                C=(len(c)/len(F))*100\n",
    "                O=(len(o)/len(F))*100\n",
    "                Total=A+L+C+O\n",
    "                \n",
    "                x= np.hstack([A,L,C,O])                  \n",
    "                y=list(x.flatten())\n",
    "                np.savetxt('./artefacts_results/'+ID + '.txt', y,delimiter=',', fmt='%f')\n",
    "      \n",
    "    \n",
    "    \n",
    "  \n",
    "            \n",
    "    return  x\n",
    "                \n",
    "                \n",
    "           \n"
   ]
  },
  {
   "cell_type": "code",
   "execution_count": 64,
   "id": "512d5b74",
   "metadata": {},
   "outputs": [],
   "source": [
    "T=checkartefact('/Users/eudari01/GNNs_Vs_CNNs/Postions_split_images/test/')"
   ]
  },
  {
   "cell_type": "code",
   "execution_count": 66,
   "id": "47fc22ca",
   "metadata": {},
   "outputs": [
    {
     "data": {
      "text/plain": [
       "['MB-0060.txt', 'MB-0028.txt']"
      ]
     },
     "execution_count": 66,
     "metadata": {},
     "output_type": "execute_result"
    }
   ],
   "source": [
    "txt_files= os.listdir(\"./artefacts_results/\")\n",
    "txt_files"
   ]
  },
  {
   "cell_type": "code",
   "execution_count": 156,
   "id": "0ded8329",
   "metadata": {},
   "outputs": [],
   "source": [
    "frames = []\n",
    "for eachfile in txt_files :\n",
    "    \n",
    "    frames.append(pd.read_csv(\"./artefacts_results/\" + eachfile,header=None))\n",
    "\n",
    "df = pd.concat(frames, axis=1)\n",
    "df=df.transpose()\n",
    "df.columns=['a','l','c','o']\n",
    "df.index=[positions_ID]"
   ]
  },
  {
   "cell_type": "code",
   "execution_count": 160,
   "id": "bb447eca",
   "metadata": {},
   "outputs": [
    {
     "data": {
      "text/html": [
       "<div>\n",
       "<style scoped>\n",
       "    .dataframe tbody tr th:only-of-type {\n",
       "        vertical-align: middle;\n",
       "    }\n",
       "\n",
       "    .dataframe tbody tr th {\n",
       "        vertical-align: top;\n",
       "    }\n",
       "\n",
       "    .dataframe thead th {\n",
       "        text-align: right;\n",
       "    }\n",
       "</style>\n",
       "<table border=\"1\" class=\"dataframe\">\n",
       "  <thead>\n",
       "    <tr style=\"text-align: right;\">\n",
       "      <th></th>\n",
       "      <th>a</th>\n",
       "      <th>l</th>\n",
       "      <th>c</th>\n",
       "      <th>o</th>\n",
       "    </tr>\n",
       "  </thead>\n",
       "  <tbody>\n",
       "    <tr>\n",
       "      <th>MB-0060</th>\n",
       "      <td>18.763603</td>\n",
       "      <td>19.169445</td>\n",
       "      <td>60.906831</td>\n",
       "      <td>1.160121</td>\n",
       "    </tr>\n",
       "    <tr>\n",
       "      <th>MB-0028</th>\n",
       "      <td>86.417292</td>\n",
       "      <td>65.360554</td>\n",
       "      <td>232.798752</td>\n",
       "      <td>4.854579</td>\n",
       "    </tr>\n",
       "  </tbody>\n",
       "</table>\n",
       "</div>"
      ],
      "text/plain": [
       "                 a          l           c         o\n",
       "MB-0060  18.763603  19.169445   60.906831  1.160121\n",
       "MB-0028  86.417292  65.360554  232.798752  4.854579"
      ]
     },
     "execution_count": 160,
     "metadata": {},
     "output_type": "execute_result"
    }
   ],
   "source": [
    "# dataframe with the percentage for each types (a,l,c,o)\n",
    "df"
   ]
  },
  {
   "cell_type": "code",
   "execution_count": null,
   "id": "793f6d74",
   "metadata": {},
   "outputs": [],
   "source": []
  }
 ],
 "metadata": {
  "kernelspec": {
   "display_name": "Python 3 (ipykernel)",
   "language": "python",
   "name": "python3"
  },
  "language_info": {
   "codemirror_mode": {
    "name": "ipython",
    "version": 3
   },
   "file_extension": ".py",
   "mimetype": "text/x-python",
   "name": "python",
   "nbconvert_exporter": "python",
   "pygments_lexer": "ipython3",
   "version": "3.9.7"
  }
 },
 "nbformat": 4,
 "nbformat_minor": 5
}
