{
 "cells": [
  {
   "cell_type": "markdown",
   "id": "9f98dd32",
   "metadata": {},
   "source": [
    "Artefcat"
   ]
  },
  {
   "cell_type": "code",
   "execution_count": 2,
   "id": "fbf26273",
   "metadata": {},
   "outputs": [
    {
     "name": "stdout",
     "output_type": "stream",
     "text": [
      "Requirement already satisfied: slidl in /home/cri.camres.org/eudari01/anaconda3/lib/python3.9/site-packages (0.1.dev4)\n",
      "Requirement already satisfied: joblib in /home/cri.camres.org/eudari01/anaconda3/lib/python3.9/site-packages (from slidl) (1.1.0)\n",
      "Requirement already satisfied: pyvips in /home/cri.camres.org/eudari01/anaconda3/lib/python3.9/site-packages (from slidl) (2.1.16)\n",
      "Requirement already satisfied: pandas in /home/cri.camres.org/eudari01/anaconda3/lib/python3.9/site-packages (from slidl) (1.3.4)\n",
      "Requirement already satisfied: scikit-learn in /home/cri.camres.org/eudari01/anaconda3/lib/python3.9/site-packages (from slidl) (1.0.2)\n",
      "Requirement already satisfied: torch<=2.0,>=1.0 in /home/cri.camres.org/eudari01/anaconda3/lib/python3.9/site-packages (from slidl) (1.12.0)\n",
      "Requirement already satisfied: albumentations in /home/cri.camres.org/eudari01/anaconda3/lib/python3.9/site-packages (from slidl) (1.1.0)\n",
      "Requirement already satisfied: scikit-image in /home/cri.camres.org/eudari01/anaconda3/lib/python3.9/site-packages (from slidl) (0.19.2)\n",
      "Requirement already satisfied: torchvision>=0.5.0 in /home/cri.camres.org/eudari01/anaconda3/lib/python3.9/site-packages (from slidl) (0.13.0)\n",
      "Requirement already satisfied: tqdm in /home/cri.camres.org/eudari01/anaconda3/lib/python3.9/site-packages (from slidl) (4.19.6)\n",
      "Requirement already satisfied: shapely in /home/cri.camres.org/eudari01/anaconda3/lib/python3.9/site-packages (from slidl) (1.8.0)\n",
      "Requirement already satisfied: matplotlib in /home/cri.camres.org/eudari01/anaconda3/lib/python3.9/site-packages (from slidl) (3.5.2)\n",
      "Requirement already satisfied: typing-extensions in /home/cri.camres.org/eudari01/anaconda3/lib/python3.9/site-packages (from torch<=2.0,>=1.0->slidl) (3.10.0.2)\n",
      "Requirement already satisfied: numpy in /home/cri.camres.org/eudari01/anaconda3/lib/python3.9/site-packages (from torchvision>=0.5.0->slidl) (1.22.3)\n",
      "Requirement already satisfied: requests in /home/cri.camres.org/eudari01/anaconda3/lib/python3.9/site-packages (from torchvision>=0.5.0->slidl) (2.26.0)\n",
      "Requirement already satisfied: pillow!=8.3.*,>=5.3.0 in /home/cri.camres.org/eudari01/anaconda3/lib/python3.9/site-packages (from torchvision>=0.5.0->slidl) (8.4.0)\n",
      "Requirement already satisfied: scipy in /home/cri.camres.org/eudari01/anaconda3/lib/python3.9/site-packages (from albumentations->slidl) (1.7.1)\n",
      "Requirement already satisfied: opencv-python-headless>=4.1.1 in /home/cri.camres.org/eudari01/anaconda3/lib/python3.9/site-packages (from albumentations->slidl) (4.5.5.62)\n",
      "Requirement already satisfied: qudida>=0.0.4 in /home/cri.camres.org/eudari01/anaconda3/lib/python3.9/site-packages (from albumentations->slidl) (0.0.4)\n",
      "Requirement already satisfied: PyYAML in /home/cri.camres.org/eudari01/anaconda3/lib/python3.9/site-packages (from albumentations->slidl) (6.0)\n",
      "Requirement already satisfied: imageio>=2.4.1 in /home/cri.camres.org/eudari01/anaconda3/lib/python3.9/site-packages (from scikit-image->slidl) (2.9.0)\n",
      "Requirement already satisfied: tifffile>=2019.7.26 in /home/cri.camres.org/eudari01/anaconda3/lib/python3.9/site-packages (from scikit-image->slidl) (2021.7.2)\n",
      "Requirement already satisfied: networkx>=2.2 in /home/cri.camres.org/eudari01/anaconda3/lib/python3.9/site-packages (from scikit-image->slidl) (2.6.3)\n",
      "Requirement already satisfied: PyWavelets>=1.1.1 in /home/cri.camres.org/eudari01/anaconda3/lib/python3.9/site-packages (from scikit-image->slidl) (1.1.1)\n",
      "Requirement already satisfied: packaging>=20.0 in /home/cri.camres.org/eudari01/anaconda3/lib/python3.9/site-packages (from scikit-image->slidl) (21.0)\n",
      "Requirement already satisfied: cycler>=0.10 in /home/cri.camres.org/eudari01/anaconda3/lib/python3.9/site-packages (from matplotlib->slidl) (0.10.0)\n",
      "Requirement already satisfied: pyparsing>=2.2.1 in /home/cri.camres.org/eudari01/anaconda3/lib/python3.9/site-packages (from matplotlib->slidl) (3.0.4)\n",
      "Requirement already satisfied: kiwisolver>=1.0.1 in /home/cri.camres.org/eudari01/anaconda3/lib/python3.9/site-packages (from matplotlib->slidl) (1.3.1)\n",
      "Requirement already satisfied: python-dateutil>=2.7 in /home/cri.camres.org/eudari01/anaconda3/lib/python3.9/site-packages (from matplotlib->slidl) (2.8.2)\n",
      "Requirement already satisfied: fonttools>=4.22.0 in /home/cri.camres.org/eudari01/anaconda3/lib/python3.9/site-packages (from matplotlib->slidl) (4.25.0)\n",
      "Requirement already satisfied: pytz>=2017.3 in /home/cri.camres.org/eudari01/anaconda3/lib/python3.9/site-packages (from pandas->slidl) (2021.3)\n",
      "Requirement already satisfied: cffi>=1.0.0 in /home/cri.camres.org/eudari01/anaconda3/lib/python3.9/site-packages (from pyvips->slidl) (1.14.6)\n",
      "Requirement already satisfied: threadpoolctl>=2.0.0 in /home/cri.camres.org/eudari01/anaconda3/lib/python3.9/site-packages (from scikit-learn->slidl) (2.2.0)\n",
      "Requirement already satisfied: pycparser in /home/cri.camres.org/eudari01/anaconda3/lib/python3.9/site-packages (from cffi>=1.0.0->pyvips->slidl) (2.20)\n",
      "Requirement already satisfied: six in /home/cri.camres.org/eudari01/anaconda3/lib/python3.9/site-packages (from cycler>=0.10->matplotlib->slidl) (1.16.0)\n",
      "Requirement already satisfied: certifi>=2017.4.17 in /home/cri.camres.org/eudari01/anaconda3/lib/python3.9/site-packages (from requests->torchvision>=0.5.0->slidl) (2021.10.8)\n",
      "Requirement already satisfied: idna<4,>=2.5 in /home/cri.camres.org/eudari01/anaconda3/lib/python3.9/site-packages (from requests->torchvision>=0.5.0->slidl) (3.2)\n",
      "Requirement already satisfied: urllib3<1.27,>=1.21.1 in /home/cri.camres.org/eudari01/anaconda3/lib/python3.9/site-packages (from requests->torchvision>=0.5.0->slidl) (1.26.7)\n",
      "Requirement already satisfied: charset-normalizer~=2.0.0 in /home/cri.camres.org/eudari01/anaconda3/lib/python3.9/site-packages (from requests->torchvision>=0.5.0->slidl) (2.0.4)\n",
      "Note: you may need to restart the kernel to use updated packages.\n"
     ]
    }
   ],
   "source": [
    "pip install slidl"
   ]
  },
  {
   "cell_type": "code",
   "execution_count": 1,
   "id": "c4239d93",
   "metadata": {},
   "outputs": [
    {
     "name": "stdout",
     "output_type": "stream",
     "text": [
      "Requirement already satisfied: pip in /home/cri.camres.org/eudari01/anaconda3/lib/python3.9/site-packages (22.1.2)\n",
      "Collecting pip\n",
      "  Downloading pip-22.2-py3-none-any.whl (2.0 MB)\n",
      "\u001b[2K     \u001b[38;2;114;156;31m━━━━━━━━━━━━━━━━━━━━━━━━━━━━━━━━━━━━━━━━\u001b[0m \u001b[32m2.0/2.0 MB\u001b[0m \u001b[31m32.0 MB/s\u001b[0m eta \u001b[36m0:00:00\u001b[0m31m28.8 MB/s\u001b[0m eta \u001b[36m0:00:01\u001b[0m\n",
      "\u001b[?25hInstalling collected packages: pip\n",
      "  Attempting uninstall: pip\n",
      "    Found existing installation: pip 22.1.2\n",
      "    Uninstalling pip-22.1.2:\n",
      "      Successfully uninstalled pip-22.1.2\n",
      "Successfully installed pip-22.2\n",
      "Note: you may need to restart the kernel to use updated packages.\n"
     ]
    }
   ],
   "source": [
    "pip install --upgrade pip"
   ]
  },
  {
   "cell_type": "code",
   "execution_count": 53,
   "id": "febd5d9a",
   "metadata": {},
   "outputs": [],
   "source": [
    "import numpy as np\n",
    "import matplotlib as plt\n",
    "import matplotlib.pyplot as plt\n",
    "import pandas as pd\n",
    "import os"
   ]
  },
  {
   "cell_type": "code",
   "execution_count": 54,
   "id": "00e96199",
   "metadata": {},
   "outputs": [
    {
     "data": {
      "text/plain": [
       "['MB-0060.csv', 'MB-0028.csv']"
      ]
     },
     "execution_count": 54,
     "metadata": {},
     "output_type": "execute_result"
    }
   ],
   "source": [
    "positions= os.listdir('/Users/eudari01/GNNs_Vs_CNNs/Postions_split_images/test/')\n",
    "positions"
   ]
  },
  {
   "cell_type": "code",
   "execution_count": 55,
   "id": "2192bb4c",
   "metadata": {},
   "outputs": [
    {
     "data": {
      "text/plain": [
       "['MB-0060', 'MB-0028']"
      ]
     },
     "execution_count": 55,
     "metadata": {},
     "output_type": "execute_result"
    }
   ],
   "source": [
    "positions_ID= os.listdir('/Users/eudari01/GNNs_Vs_CNNs/Postions_split_images/test/')\n",
    "positions_ID=[x.split('.csv')[0] for x in positions_ID]\n",
    "positions_ID\n",
    "    "
   ]
  },
  {
   "cell_type": "code",
   "execution_count": 56,
   "id": "253ccdd5",
   "metadata": {},
   "outputs": [],
   "source": [
    "# the directory to save the txt files \n",
    "analysis_dir_path = './artefacts_results/'\n",
    "os.makedirs(analysis_dir_path, exist_ok=True)"
   ]
  },
  {
   "cell_type": "code",
   "execution_count": 63,
   "id": "b6f7c3c2",
   "metadata": {},
   "outputs": [],
   "source": [
    "Df=[]\n",
    "a= []\n",
    "l=[]\n",
    "c=[]\n",
    "o=[]\n",
    "i=[]\n",
    "def checkartefact(path):\n",
    "     \n",
    "    \n",
    "    DF=pd.DataFrame()\n",
    "    \n",
    "    for ID in positions_ID:\n",
    "\n",
    "        F= pd.read_csv(path+ ID +'.csv' ,engine='python',encoding='utf8')\n",
    "\n",
    "\n",
    "    #for i in range(len(F)) :\n",
    "        for eachdataF in F.iloc[:,1] :\n",
    "                if eachdataF== \"a\":\n",
    "                    a.append(eachdataF)\n",
    "                if eachdataF== \"l\":\n",
    "                    l.append(eachdataF)\n",
    "                if eachdataF== \"c\":\n",
    "                    c.append(eachdataF)\n",
    "                if eachdataF== \"o\":\n",
    "                    o.append(eachdataF)\n",
    "                \n",
    "                #probability\n",
    "        \n",
    "                 \n",
    "                A=(len(a)/len(F))*100\n",
    "                L=(len(l)/len(F))*100\n",
    "                C=(len(c)/len(F))*100\n",
    "                O=(len(o)/len(F))*100\n",
    "                Total=A+L+C+O\n",
    "                \n",
    "                x= np.hstack([A,L,C,O])                  \n",
    "                y=list(x.flatten())\n",
    "                np.savetxt('./artefacts_results/'+ID + '.txt', y,delimiter=',', fmt='%f')\n",
    "      \n",
    "    \n",
    "    \n",
    "  \n",
    "            \n",
    "    return  x\n",
    "                \n",
    "                \n",
    "           \n"
   ]
  },
  {
   "cell_type": "code",
   "execution_count": 64,
   "id": "512d5b74",
   "metadata": {},
   "outputs": [],
   "source": [
    "T=checkartefact('/Users/eudari01/GNNs_Vs_CNNs/Postions_split_images/test/')"
   ]
  },
  {
   "cell_type": "code",
   "execution_count": 66,
   "id": "47fc22ca",
   "metadata": {},
   "outputs": [
    {
     "data": {
      "text/plain": [
       "['MB-0060.txt', 'MB-0028.txt']"
      ]
     },
     "execution_count": 66,
     "metadata": {},
     "output_type": "execute_result"
    }
   ],
   "source": [
    "txt_files= os.listdir(\"./artefacts_results/\")\n",
    "txt_files"
   ]
  },
  {
   "cell_type": "code",
   "execution_count": 156,
   "id": "0ded8329",
   "metadata": {},
   "outputs": [],
   "source": [
    "frames = []\n",
    "for eachfile in txt_files :\n",
    "    \n",
    "    frames.append(pd.read_csv(\"./artefacts_results/\" + eachfile,header=None))\n",
    "\n",
    "df = pd.concat(frames, axis=1)\n",
    "df=df.transpose()\n",
    "df.columns=['a','l','c','o']\n",
    "df.index=[positions_ID]"
   ]
  },
  {
   "cell_type": "code",
   "execution_count": 160,
   "id": "bb447eca",
   "metadata": {},
   "outputs": [
    {
     "data": {
      "text/html": [
       "<div>\n",
       "<style scoped>\n",
       "    .dataframe tbody tr th:only-of-type {\n",
       "        vertical-align: middle;\n",
       "    }\n",
       "\n",
       "    .dataframe tbody tr th {\n",
       "        vertical-align: top;\n",
       "    }\n",
       "\n",
       "    .dataframe thead th {\n",
       "        text-align: right;\n",
       "    }\n",
       "</style>\n",
       "<table border=\"1\" class=\"dataframe\">\n",
       "  <thead>\n",
       "    <tr style=\"text-align: right;\">\n",
       "      <th></th>\n",
       "      <th>a</th>\n",
       "      <th>l</th>\n",
       "      <th>c</th>\n",
       "      <th>o</th>\n",
       "    </tr>\n",
       "  </thead>\n",
       "  <tbody>\n",
       "    <tr>\n",
       "      <th>MB-0060</th>\n",
       "      <td>18.763603</td>\n",
       "      <td>19.169445</td>\n",
       "      <td>60.906831</td>\n",
       "      <td>1.160121</td>\n",
       "    </tr>\n",
       "    <tr>\n",
       "      <th>MB-0028</th>\n",
       "      <td>86.417292</td>\n",
       "      <td>65.360554</td>\n",
       "      <td>232.798752</td>\n",
       "      <td>4.854579</td>\n",
       "    </tr>\n",
       "  </tbody>\n",
       "</table>\n",
       "</div>"
      ],
      "text/plain": [
       "                 a          l           c         o\n",
       "MB-0060  18.763603  19.169445   60.906831  1.160121\n",
       "MB-0028  86.417292  65.360554  232.798752  4.854579"
      ]
     },
     "execution_count": 160,
     "metadata": {},
     "output_type": "execute_result"
    }
   ],
   "source": [
    "# dataframe with the percentage for each types (a,l,c,o)\n",
    "df"
   ]
  },
  {
   "cell_type": "code",
   "execution_count": null,
   "id": "793f6d74",
   "metadata": {},
   "outputs": [],
   "source": []
  }
 ],
 "metadata": {
  "kernelspec": {
   "display_name": "Python 3 (ipykernel)",
   "language": "python",
   "name": "python3"
  },
  "language_info": {
   "codemirror_mode": {
    "name": "ipython",
    "version": 3
   },
   "file_extension": ".py",
   "mimetype": "text/x-python",
   "name": "python",
   "nbconvert_exporter": "python",
   "pygments_lexer": "ipython3",
   "version": "3.9.7"
  }
 },
 "nbformat": 4,
 "nbformat_minor": 5
}
