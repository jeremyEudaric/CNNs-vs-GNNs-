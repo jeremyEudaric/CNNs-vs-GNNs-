{
 "cells": [
  {
   "cell_type": "code",
   "execution_count": null,
   "id": "0b43d3c3",
   "metadata": {},
   "outputs": [],
   "source": [
    "import glob\n",
    "import os\n",
    "import pickle\n",
    "import sys\n",
    "from pathlib import Path\n",
    "import random\n",
    "from tqdm import tqdm\n",
    "\n",
    "import torchvision.models as models\n",
    "from torch.nn import Module, Dropout\n",
    "import numpy as np\n",
    "import pandas as pd\n",
    "import matplotlib.pyplot as plt\n",
    "import copy\n",
    "import torch\n",
    "import torch.nn as nn\n",
    "import torch.optim as optim\n",
    "from torch.utils.data import DataLoader, Dataset\n",
    "from torch.utils.data import Dataset, DataLoader,TensorDataset,random_split,SubsetRandomSampler, ConcatDataset\n",
    "import torchvision\n",
    "\n",
    "#from pytorchtools import EarlyStopping\n",
    "\n",
    "from sklearn.metrics import mean_squared_error\n",
    "from scipy.stats import pearsonr\n",
    "from sklearn.metrics import r2_score\n",
    "from torchvision import datasets, models, transforms\n",
    "import time\n",
    "import logging\n",
    "\n",
    "#from sklearn.metrics import mean_squared_error\n",
    "#from sklearn.model_selection import KFold\n",
    "#from sklearn.model_selection import train_test_split\n",
    "#from sklearn.model_selection import GridSearchCV\n",
    "\n"
   ]
  },
  {
   "cell_type": "code",
   "execution_count": 26,
   "id": "bd9faa1e",
   "metadata": {},
   "outputs": [],
   "source": [
    "from scipy.stats import pearsonr"
   ]
  },
  {
   "cell_type": "code",
   "execution_count": 27,
   "id": "e0958986",
   "metadata": {},
   "outputs": [],
   "source": [
    "train_transforms = transforms.Compose([\n",
    "                                    transforms.Resize(224),\n",
    "                                    transforms.RandomVerticalFlip(),\n",
    "                                    transforms.RandomHorizontalFlip(),\n",
    "                                    transforms.ColorJitter(brightness=0, contrast=0, saturation=1, hue=.5),\n",
    "                                    transforms.ToTensor()])\n",
    "\n",
    "\n",
    "val_transforms= transforms.Compose([\n",
    "                                    transforms.Resize(224),\n",
    "                                    transforms.ToTensor()])\n",
    "\n",
    "                      "
   ]
  },
  {
   "cell_type": "code",
   "execution_count": 29,
   "id": "b8ef1acb",
   "metadata": {},
   "outputs": [],
   "source": [
    "\n",
    "train_dataset = datasets.ImageFolder('/Users/eudari01/GNNs_Vs_CNNs/train/', train_transforms) \n",
    "val_dataset= datasets.ImageFolder('/Users/eudari01/GNNs_Vs_CNNs/val/', val_transforms) \n",
    "\n",
    "\n",
    "batch_size = 10\n",
    "train_loader = torch.utils.data.DataLoader(train_dataset, batch_size=batch_size, num_workers=16, shuffle=True)\n",
    "valid_loader= torch.utils.data.DataLoader(train_dataset, batch_size=batch_size, num_workers=16, shuffle=True)\n"
   ]
  },
  {
   "cell_type": "code",
   "execution_count": 30,
   "id": "ff64070f",
   "metadata": {},
   "outputs": [],
   "source": [
    "dropout=0.5"
   ]
  },
  {
   "cell_type": "code",
   "execution_count": 31,
   "id": "ce4e4c1a",
   "metadata": {},
   "outputs": [],
   "source": [
    "class VGG_19_Regression(Module):\n",
    "    \n",
    "    def __init__(self,dropout=0.8):\n",
    "        \n",
    "        \n",
    "        model = torch.hub.load('pytorch/vision:v0.10.0', 'vgg19_bn',weights = None)\n",
    "        \n",
    "        super(VGG_19_Regression,self).__init__()\n",
    "        self.model= model\n",
    "        self.Regression = nn.Linear(1000,1)\n",
    "        self.Batch=nn.BatchNorm1d(1000)\n",
    "        #self.Flatten=nn.Flatten()\n",
    "        self.dropout = Dropout(float(dropout))\n",
    "        \n",
    "           \n",
    "         \n",
    "    def forward(self, out):\n",
    "        \n",
    "      \n",
    "        x= self.model(out)\n",
    "        \n",
    "        x=self.Batch(x)\n",
    "        \n",
    "        x = x.view(x.size(0), -1) # flatten\n",
    "        \n",
    "        x = self.dropout(x)\n",
    "        \n",
    "        \n",
    "        \n",
    "        x =self.Regression(x) \n",
    "        \n",
    "        \n",
    "        return x"
   ]
  },
  {
   "cell_type": "code",
   "execution_count": 32,
   "id": "7bfd92fe",
   "metadata": {},
   "outputs": [
    {
     "name": "stderr",
     "output_type": "stream",
     "text": [
      "Using cache found in /Users/eudari01/.cache/torch/hub/pytorch_vision_v0.10.0\n"
     ]
    }
   ],
   "source": [
    "Model= VGG_19_Regression()\n",
    "MSE = torch.nn.MSELoss()\n",
    "optimizer = torch.optim.SGD(Model.parameters(), lr=0.00001,momentum=0.9, weight_decay=1e-5)\n"
   ]
  },
  {
   "cell_type": "code",
   "execution_count": 33,
   "id": "ba5aacea",
   "metadata": {},
   "outputs": [
    {
     "data": {
      "text/plain": [
       "<torch._C.Generator at 0x7f0644871410>"
      ]
     },
     "execution_count": 33,
     "metadata": {},
     "output_type": "execute_result"
    }
   ],
   "source": [
    "\n",
    "device = torch.device(\"cuda:0\" if torch.cuda.is_available() else \"cpu\")\n",
    "if torch.cuda.device_count() > 1:\n",
    "    Model = nn.DataParallel(Model)\n",
    "    \n",
    "torch.manual_seed(42)\n",
    "#Model.to(device)    "
   ]
  },
  {
   "cell_type": "code",
   "execution_count": 34,
   "id": "c8e84d89",
   "metadata": {},
   "outputs": [],
   "source": [
    "#reset the parameters \n",
    "for layer in Model.children():\n",
    "    if hasattr(layer, 'reset_parameters'):\n",
    "            layer.reset_parameters()    \n",
    "        "
   ]
  },
  {
   "cell_type": "code",
   "execution_count": 35,
   "id": "44c8ac1c",
   "metadata": {},
   "outputs": [],
   "source": [
    "val_loss=[]\n",
    "train_loss=[]\n",
    "\n",
    "r2_score_t=[]\n",
    "r2_score_v= []\n",
    "                \n",
    "def training(epochs):\n",
    "\n",
    "      \n",
    "                           \n",
    "        Model.train()              \n",
    "        epoch_loss = 0.0\n",
    "        running_loss_train=0.0\n",
    "   \n",
    "        for inputs, label in tqdm(train_loader):\n",
    "        \n",
    "                  inputs= inputs.to(device)\n",
    "                  label = label.to(device)\n",
    "                \n",
    "                \n",
    "                  label= label.to(torch.float32)\n",
    "    \n",
    "                  label = label.unsqueeze(1)\n",
    "                  #Clear the gradients\n",
    "                  optimizer.zero_grad()\n",
    "            \n",
    "                  output = Model(inputs)\n",
    "       \n",
    "                  loss = MSE(output,label)\n",
    "        \n",
    "                  loss.backward()\n",
    "                \n",
    "                # Update Weights\n",
    "                  optimizer.step()\n",
    "                \n",
    "               #Calculate prediction\n",
    "                  prediction_train=output.argmax(dim=1)\n",
    "\n",
    "        \n",
    "                  running_loss_train =+ loss.item() \n",
    "          \n",
    "            \n",
    "                  epoch_loss += running_loss_train / len(train_loader)\n",
    "                  \n",
    "                   \n",
    "                  r2_score_train=r2_score(label,prediction_train)\n",
    "    \n",
    "            \n",
    "      \n",
    "\n",
    "    \n",
    "        Model.eval()\n",
    "        epoch_val_loss = 0.0\n",
    "        running_loss_val= 0.0\n",
    "       \n",
    "        \n",
    "        with torch.no_grad():\n",
    "        \n",
    "            for inputs, label in valid_loader:\n",
    "                \n",
    "                        \n",
    "                        inputs= inputs.to(device)\n",
    "                        label = label.to(device)\n",
    "                        \n",
    "                        \n",
    "                        label= label.to(torch.float32)\n",
    "                        label = label.unsqueeze(1)\n",
    "\n",
    "                        output = Model(inputs)\n",
    "                \n",
    "                        loss = MSE(output, label)\n",
    "                \n",
    "           \n",
    "                        prediction_val= output.argmax(dim=1)\n",
    "                \n",
    "                        running_loss_val =+ loss.item()* inputs.size(0)\n",
    "               \n",
    "                #Epoch  \n",
    "                    \n",
    "                        epoch_val_loss += running_loss_val / len(valid_loader)\n",
    "                        \n",
    "                        r2_score_val= r2_score( label,prediction_val)\n",
    "                    \n",
    "  \n",
    "         \n",
    "        val_loss.append(epoch_val_loss)\n",
    "        train_loss.append(epoch_loss)\n",
    "        r2_score_t.append(r2_score_train)\n",
    "        r2_score_v.append(r2_score_val)\n",
    "        \n",
    "        #save the model for the aggregation for each fold \n",
    "        torch.save(Model, 'model_weights.pt')     \n",
    "    \n",
    "        print(\n",
    "            f\"Epoch : {epoch+1} - train_loss : {epoch_loss:.4f} - val_loss : {epoch_val_loss:.4f} -r2_score_train:{r2_score_train:.4f}-r2_score_val:{r2_score_val:.4f}\\n\")\n",
    "        \n",
    "                \n",
    "\n",
    "        #results_df= pd.DataFrame(list(zip(epoch_loss,i)), columns= ['train_loss','split'])\n",
    "        #results_df= pd.DataFrame(zip(epoch_loss,[epoch_val_loss]), columns= ['train_loss', 'val_loss'])\n",
    "\n",
    "        \n",
    "        return  train_loss, val_loss,r2_score_t,r2_score_v\n",
    "\n"
   ]
  },
  {
   "cell_type": "code",
   "execution_count": null,
   "id": "9440fd81",
   "metadata": {
    "scrolled": true
   },
   "outputs": [
    {
     "name": "stderr",
     "output_type": "stream",
     "text": [
      "  4%|█▋                                          | 1/27 [00:05<02:21,  5.44s/it]"
     ]
    }
   ],
   "source": [
    "epochs=10\n",
    "for epoch in range(1,epochs+1):\n",
    "      training(epoch)\n",
    "     \n",
    "\n"
   ]
  },
  {
   "cell_type": "code",
   "execution_count": 42,
   "id": "bf98770f",
   "metadata": {},
   "outputs": [
    {
     "data": {
      "image/png": "[encoded data removed]",
      "text/plain": [
       "<Figure size 432x288 with 1 Axes>"
      ]
     },
     "metadata": {
      "needs_background": "light"
     },
     "output_type": "display_data"
    }
   ],
   "source": [
    "fig, ax1 = plt.subplots()\n",
    "ax1.plot(train_loss, 'bo-',label=\"train\")\n",
    "ax1.plot(val_loss, 'ro-',label=\"val\")\n",
    "ax1.set_xlabel(\"epochs\")\n",
    "ax1.set_ylabel(\"Loss\")\n",
    "ax1.set_title(\"split_0_Training and Validation Loss\")\n",
    "fig.savefig('/path/overfit_new_plot0_CIN_.png')\n",
    "plt.sho()"
   ]
  },
  {
   "cell_type": "code",
   "execution_count": null,
   "id": "b9d6b6f0",
   "metadata": {},
   "outputs": [],
   "source": [
    "fig1, ax2 = plt.subplots()\n",
    "ax2.plot(r2_score_t, 'bo-',label=\"train\")\n",
    "ax2.plot(r2_score_v, 'ro-',label=\"val\")\n",
    "ax2.set_xlabel(\"epochs\")\n",
    "ax2.set_ylabel(\"R2_score\")\n",
    "ax2.set_title(\"split_0_R2_score\")\n",
    "fig1.savefig('/pathR2score_plot0_CIN_.png')\n",
    "\n",
    "                                                    "
   ]
  },
  {
   "cell_type": "code",
   "execution_count": null,
   "id": "03838a5c",
   "metadata": {},
   "outputs": [],
   "source": []
  }
 ],
 "metadata": {
  "kernelspec": {
   "display_name": "Python 3 (ipykernel)",
   "language": "python",
   "name": "python3"
  },
  "language_info": {
   "codemirror_mode": {
    "name": "ipython",
    "version": 3
   },
   "file_extension": ".py",
   "mimetype": "text/x-python",
   "name": "python",
   "nbconvert_exporter": "python",
   "pygments_lexer": "ipython3",
   "version": "3.9.7"
  }
 },
 "nbformat": 4,
 "nbformat_minor": 5
}
