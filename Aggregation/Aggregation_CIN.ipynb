{
 "cells": [
  {
   "cell_type": "code",
   "execution_count": 242,
   "id": "0b43d3c3",
   "metadata": {},
   "outputs": [],
   "source": [
    "import glob\n",
    "import os\n",
    "import pickle\n",
    "import sys\n",
    "from pathlib import Path\n",
    "import random\n",
    "from tqdm import tqdm\n",
    "\n",
    "import torchvision.models as models\n",
    "from torch.nn import Module, Dropout\n",
    "import numpy as np\n",
    "import pandas as pd\n",
    "import matplotlib.pyplot as plt\n",
    "import copy\n",
    "import torch\n",
    "import torch.nn as nn\n",
    "import torch.optim as optim\n",
    "from torch.utils.data import DataLoader, Dataset\n",
    "from torch.utils.data import Dataset, DataLoader,TensorDataset,random_split,SubsetRandomSampler, ConcatDataset\n",
    "import torchvision\n",
    "\n",
    "#from pytorchtools import EarlyStopping\n",
    "\n",
    "from sklearn.metrics import mean_squared_error\n",
    "from sklearn.metrics import r2_score\n",
    "from torchvision import datasets, models, transforms\n",
    "import time\n",
    "import logging\n",
    "\n",
    "from PIL import Image\n",
    "\n",
    "#from sklearn.metrics import mean_squared_error\n",
    "#from sklearn.model_selection import KFold\n",
    "#from sklearn.model_selection import train_test_split\n",
    "#from sklearn.model_selection import GridSearchCV\n",
    "\n"
   ]
  },
  {
   "cell_type": "code",
   "execution_count": 245,
   "id": "ec21471a",
   "metadata": {},
   "outputs": [],
   "source": [
    "# load the pre-train model - VGG_19_Regression()\n",
    "Model=torch.load('model_weights.pt')\n",
    "#Model.load_state_dict(torch.load('model_weights.pt'))"
   ]
  },
  {
   "cell_type": "markdown",
   "id": "2f53bf8d",
   "metadata": {},
   "source": [
    "Aggregation Patient level"
   ]
  },
  {
   "cell_type": "code",
   "execution_count": 16,
   "id": "ac0f2d5b",
   "metadata": {},
   "outputs": [],
   "source": [
    "# create the folder to save the predictions\n",
    "dir_0 = os.path.join(\"Predict_trainsetCV_fold_0\")\n",
    "dir_1 = os.path.join(\"Predict_trainsetCV_fold_1\")\n",
    "dir_2 = os.path.join(\"Predict_trainsetCV_fold_2\")\n",
    "dir_3 = os.path.join(\"Predict_trainsetCV_fold_3\")\n",
    "dir_4 = os.path.join(\"Predict_trainsetCV_fold_4\")\n",
    "os.mkdir(dir_0)\n",
    "os.mkdir(dir_1)\n",
    "os.mkdir(dir_2)\n",
    "os.mkdir(dir_3)\n",
    "os.mkdir(dir_4)"
   ]
  },
  {
   "cell_type": "code",
   "execution_count": 54,
   "id": "10969fc6",
   "metadata": {},
   "outputs": [],
   "source": [
    "def prediction(path,Patient_ID,Predict_folder):\n",
    "\n",
    "    predict=[]\n",
    "    \n",
    "    images= os.listdir('/Users/eudari01/GNNs_Vs_CNNs/'+path) \n",
    "\n",
    "    for eachtiles in images:\n",
    "        \n",
    "        Model.eval()\n",
    "        \n",
    "        img = Image.open('/Users/eudari01/GNNs_Vs_CNNs/'+path+ eachtiles)\n",
    "       \n",
    "        #convert the image to a tensor\n",
    "        convert_tensor = transforms.ToTensor()\n",
    "        image = convert_tensor(img)\n",
    "        # the model, prediction\n",
    "        outputs=Model(image[None, ...].float())\n",
    "        \n",
    "        predicted = outputs.data.numpy()\n",
    "        predict.append(predicted) \n",
    "        \n",
    "        # save the file into a text file \n",
    "        x = np.array(predict)\n",
    "        y=list(x.flatten())\n",
    "        np.savetxt('/Users/eudari01/GNNs_Vs_CNNs/'+ Predict_folder + Patient_ID + '.txt', y,delimiter=',')\n",
    "        #df = pd.read_csv (Patient_ID +'.txt')\n",
    "        #df = pd.DataFrame(df, columns = [Patient_ID ])\n",
    "        \n",
    "        #df.to_csv(Patient_ID +'.csv')\n",
    "\n",
    "     \n",
    "    return\n",
    "        \n",
    "        \n",
    "        "
   ]
  },
  {
   "cell_type": "code",
   "execution_count": 55,
   "id": "457ff4d8",
   "metadata": {},
   "outputs": [],
   "source": [
    "# the path = the path with all the patients ID"
   ]
  },
  {
   "cell_type": "code",
   "execution_count": 248,
   "id": "7fe9cafa",
   "metadata": {},
   "outputs": [],
   "source": [
    "#get the prediction for one split and all the tiles \n",
    "def AllIDprediction_0(path):\n",
    "    \n",
    "    # path  through the ID \n",
    "    allID= os.listdir(path)\n",
    "    for ID in allID :\n",
    "\n",
    "        prediction('/tiles_CIN/train/tiles_has_CIN_HE_trainsetCV_fold_0/'+ ID+'/train_metastasis/',ID, '/Predict_trainsetCV_fold_0/')"
   ]
  },
  {
   "cell_type": "code",
   "execution_count": 249,
   "id": "4431a480",
   "metadata": {},
   "outputs": [],
   "source": [
    "#get the prediction for one split and all the tiles \n",
    "def AllIDprediction_1(path):\n",
    "    \n",
    "    # path  through the ID \n",
    "    allID= os.listdir(path)\n",
    "    for ID in allID :\n",
    "\n",
    "        prediction('/tiles_CIN/train/tiles_has_CIN_HE_trainsetCV_fold_1/'+ ID+'/train_metastasis/',ID, '/Predict_trainsetCV_fold_1/')"
   ]
  },
  {
   "cell_type": "code",
   "execution_count": 250,
   "id": "54b4cc5e",
   "metadata": {},
   "outputs": [],
   "source": [
    "#get the prediction for one split and all the tiles \n",
    "def AllIDprediction_2(path):\n",
    "    \n",
    "    # path  through the ID \n",
    "    allID= os.listdir(path)\n",
    "    for ID in allID :\n",
    "\n",
    "        prediction('/tiles_CIN/train/tiles_has_CIN_HE_trainsetCV_fold_2/'+ ID+'/train_metastasis/',ID, '/Predict_trainsetCV_fold_2/')"
   ]
  },
  {
   "cell_type": "code",
   "execution_count": 259,
   "id": "a8e0c3d0",
   "metadata": {},
   "outputs": [],
   "source": [
    "#get the prediction for one split and all the tiles \n",
    "def AllIDprediction_3(path):\n",
    "    \n",
    "    # path  through the ID \n",
    "    allID= os.listdir(path)\n",
    "    for ID in allID :\n",
    "\n",
    "        prediction('/tiles_CIN/train/tiles_has_CIN_HE_trainsetCV_fold_3/'+ ID+'/train_metastasis/',ID, '/Predict_trainsetCV_fold_3/')"
   ]
  },
  {
   "cell_type": "code",
   "execution_count": 260,
   "id": "a9059a5c",
   "metadata": {},
   "outputs": [],
   "source": [
    "#get the prediction for one split and all the tiles \n",
    "def AllIDprediction_4(path):\n",
    "    \n",
    "    # path  through the ID \n",
    "    allID= os.listdir(path)\n",
    "    for ID in allID :\n",
    "\n",
    "        prediction('/tiles_CIN/train/tiles_has_CIN_HE_trainsetCV_fold_4/'+ ID+'/train_metastasis/',ID, '/Predict_trainsetCV_fold_4/')"
   ]
  },
  {
   "cell_type": "code",
   "execution_count": 251,
   "id": "7f5f8d7b",
   "metadata": {},
   "outputs": [],
   "source": [
    "AllIDprediction('tiles_CIN/train/tiles_has_CIN_HE_trainsetCV_fold_0/')"
   ]
  },
  {
   "cell_type": "code",
   "execution_count": 253,
   "id": "61b6715c",
   "metadata": {},
   "outputs": [],
   "source": [
    "AllIDprediction_1('tiles_CIN/train/tiles_has_CIN_HE_trainsetCV_fold_1/')"
   ]
  },
  {
   "cell_type": "code",
   "execution_count": 262,
   "id": "cfcf6c77",
   "metadata": {},
   "outputs": [],
   "source": [
    "AllIDprediction_2('tiles_CIN/train/tiles_has_CIN_HE_trainsetCV_fold_2/')"
   ]
  },
  {
   "cell_type": "code",
   "execution_count": 263,
   "id": "50e8f1e6",
   "metadata": {},
   "outputs": [],
   "source": [
    "AllIDprediction_3('tiles_CIN/train/tiles_has_CIN_HE_trainsetCV_fold_3/')"
   ]
  },
  {
   "cell_type": "code",
   "execution_count": 264,
   "id": "4e5b2ff7",
   "metadata": {},
   "outputs": [],
   "source": [
    "AllIDprediction_4('tiles_CIN/train/tiles_has_CIN_HE_trainsetCV_fold_4/')"
   ]
  },
  {
   "cell_type": "markdown",
   "id": "1632b1bf",
   "metadata": {},
   "source": [
    "Im this part we will use the previous txt file to calculate manualy the MSE "
   ]
  },
  {
   "cell_type": "code",
   "execution_count": 278,
   "id": "2382fc7e",
   "metadata": {},
   "outputs": [],
   "source": [
    "def MSE(path_prediction_files, real_labels_path,CIN_log_columns):\n",
    "   \n",
    "    # txt files with all the predictions for each patient\n",
    "    txt_files= os.listdir(path_prediction_files)\n",
    "    df = pd.DataFrame()\n",
    "\n",
    "    for eachfile in txt_files:\n",
    "        \n",
    "        frame = pd.read_csv(path_prediction_files+ eachfile,header=None)\n",
    "        # get the mean for each \n",
    "        t=frame.mean().reset_index()\n",
    "        df = df.append(t)\n",
    "        # predictions for each patients \n",
    "        y_pred=df.reset_index(drop=True)\n",
    "        y_pred= y_pred.drop(columns=['index'])\n",
    "        # load the reals labels\n",
    "        y_true= pd.read_csv(real_labels_path,sep=',', engine='python',encoding='utf8')\n",
    "        \n",
    "        # select the colums reagrding the split\n",
    "        y_true[CIN_log_columns]\n",
    "        \n",
    "        #calculate the MSE for each patient \n",
    "        MSE = np.mean((y_true[CIN_log_columns]- y_pred)**2, axis=1)\n",
    "        \n",
    "        #calcuate the global MSE\n",
    "        \n",
    "        #Global_MSE= np.mean (MSE)\n",
    "        \n",
    "        \n",
    "    return  MSE"
   ]
  },
  {
   "cell_type": "code",
   "execution_count": 279,
   "id": "9bfdea4c",
   "metadata": {},
   "outputs": [],
   "source": [
    "x=MSE('/Users/eudari01/GNNs_Vs_CNNs/Predict_trainsetCV_fold_2/', '/Users/eudari01/GNNs_Vs_CNNs/CIN_log.csv' ,'CIN_log_train_2')"
   ]
  },
  {
   "cell_type": "code",
   "execution_count": 270,
   "id": "4d4e49e5",
   "metadata": {},
   "outputs": [
    {
     "data": {
      "image/png": "[encoded data removed]",
      "text/plain": [
       "<Figure size 432x288 with 1 Axes>"
      ]
     },
     "metadata": {
      "needs_background": "light"
     },
     "output_type": "display_data"
    }
   ],
   "source": [
    "plt.title(\"MSE\")\n",
    "plt.plot(MSE('/Users/eudari01/GNNs_Vs_CNNs/Predict_trainsetCV_fold_2/', '/Users/eudari01/GNNs_Vs_CNNs/CIN_log.csv' ,'CIN_log_train_2'), 'bo-',label=\"MSE\")\n",
    "plt.xlabel(\"Patients\")\n",
    "plt.ylabel(\"Loss\")\n",
    "plt.legend()\n",
    "plt.savefig\n",
    "plt.show()"
   ]
  },
  {
   "cell_type": "code",
   "execution_count": 274,
   "id": "bcf56254",
   "metadata": {},
   "outputs": [
    {
     "data": {
      "image/png": "[encoded data removed]",
      "text/plain": [
       "<Figure size 360x360 with 1 Axes>"
      ]
     },
     "metadata": {
      "needs_background": "light"
     },
     "output_type": "display_data"
    }
   ],
   "source": [
    "import seaborn as sns\n",
    "plot=sns.displot(x, bins=82, kde=True)\n",
    "plot.savefig(\"output.png\")"
   ]
  },
  {
   "cell_type": "code",
   "execution_count": 272,
   "id": "eb858bb0",
   "metadata": {},
   "outputs": [
    {
     "data": {
      "image/png": "[encoded data removed]",
      "text/plain": [
       "<Figure size 432x288 with 1 Axes>"
      ]
     },
     "metadata": {
      "needs_background": "light"
     },
     "output_type": "display_data"
    }
   ],
   "source": [
    "import matplotlib.pyplot as plt\n",
    "import numpy as np\n",
    "%matplotlib inline\n",
    "\n",
    "\n",
    "plt.hist(x, density=True, bins=30)  # density=False would make counts\n",
    "plt.ylabel('Probability')\n",
    "plt.xlabel('MSE')\n"
   ]
  },
  {
   "cell_type": "code",
   "execution_count": null,
   "id": "2a3941f4",
   "metadata": {},
   "outputs": [],
   "source": []
  }
 ],
 "metadata": {
  "kernelspec": {
   "display_name": "Python 3 (ipykernel)",
   "language": "python",
   "name": "python3"
  },
  "language_info": {
   "codemirror_mode": {
    "name": "ipython",
    "version": 3
   },
   "file_extension": ".py",
   "mimetype": "text/x-python",
   "name": "python",
   "nbconvert_exporter": "python",
   "pygments_lexer": "ipython3",
   "version": "3.9.7"
  }
 },
 "nbformat": 4,
 "nbformat_minor": 5
}
